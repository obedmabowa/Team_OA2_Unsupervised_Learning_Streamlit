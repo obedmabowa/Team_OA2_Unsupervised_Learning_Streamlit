{
  "cells": [
    {
      "cell_type": "markdown",
      "metadata": {
        "id": "udVpmRgKX5ia"
      },
      "source": [
        "# Anime Recommender Project"
      ]
    },
    {
      "cell_type": "markdown",
      "metadata": {
        "id": "rITR5mpyX5id"
      },
      "source": [
        "Table of contents:\n",
        "* [1. Project Overview](#chapter1)\n",
        "    - [1.1. Introduction](#section_1_1)\n",
        "    - [1.2. Problem Statement](#section_1_2)\n",
        "    - [1.3. Objective of the Project](#section_1_3)\n",
        "    - [1.4. Data Source](#section_1_4)\n",
        "    - [1.5. Importance of the Study](#section_1_5)\n",
        "    - [1.6. Key Questions or Hypotheses](#section_1_6)\n",
        "    - [1.7. Methodology Overview](#section_1_7)\n",
        "* [2. Importing Packages](#chapter2)\n",
        "* [3. Loading Data](#chapter3)\n",
        "* [4. Data Cleaning](#chapter4)\n",
        "* [5. Exploratory Data Analysis (EDA))](#chapter5)\n",
        "* [6. Data Preprocessing](#chapter6)\n",
        "* [7. Modelling](#chapter7)\n",
        "* [8. Model performance analysis](#chapter9)\n",
        "* [9. Conclusion](#chapter10)\n",
        "* [10. References](#chapter11)"
      ]
    },
    {
      "cell_type": "markdown",
      "metadata": {
        "id": "CezmTPtSX5if"
      },
      "source": [
        "## 1. Project Overview <a class=\"anchor\" id=\"chapter1\"></a>"
      ]
    },
    {
      "cell_type": "markdown",
      "metadata": {
        "id": "GmINoNhJX5if"
      },
      "source": [
        "#### 1.1. Introduction <a class=\"anchor\" id=\"section_1_1\"></a>\n",
        "- In the realm of entertainment, personalized recommendations play a pivotal role in\n",
        "enhancing user experience. With the exponential growth of content, especially in niche areas\n",
        "like anime, it becomes essential to provide users with curated suggestions that align with\n",
        "their preferences. This project aims to build an efficient Anime Recommendation System\n",
        "using various data science and machine learning techniques. The system leverages a\n",
        "dataset containing detailed information about anime shows and user ratings to generate\n",
        "personalized recommendations.\n",
        "The development process is meticulously documented in this Jupyter notebook, covering all\n",
        "essential stages from data acquisition and cleaning to model deployment. This\n",
        "comprehensive approach ensures the creation of a robust and reliable recommendation\n",
        "system that can be integrated into our Streamlit Anime Recommendation App.\n",
        "\n",
        "#### 1.2. Problem Statement: <a id=\"section_1_2\"></a>\n",
        "- In an era of abundant content, anime enthusiasts often face the challenge of selecting shows\n",
        "that align with their tastes. The sheer volume of available anime can be overwhelming,\n",
        "leading to a paradox of choice where users struggle to make decisions. This project\n",
        "addresses the following key problems:\n",
        "1. Content Overload: Users are inundated with a vast array of anime shows, making it\n",
        "difficult to find those that match their preferences.\n",
        "2. Lack of Personalization: Generic recommendations fail to cater to individual tastes,\n",
        "leading to a suboptimal viewing experience.\n",
        "3. User Retention: Without personalized recommendations, users may lose interest\n",
        "and disengage from the platform.\n",
        "The goal is to build a recommendation system that accurately predicts user preferences,\n",
        "thereby enhancing user satisfaction and engagement.\n",
        "\n",
        "#### 1.3. Objective of the Project <a id=\"section_1_3\"></a>\n",
        "- The primary objective of this project is to develop a robust Anime Recommendation System.\n",
        "The specific objectives include:\n",
        "1. Data Cleaning and Preparation:\n",
        "○ Handle missing values, duplicates, and inconsistencies in the dataset.\n",
        "○ Ensure the data is in a suitable format for analysis and modeling.\n",
        "2. Exploratory Data Analysis (EDA):\n",
        "○ Gain insights into the dataset through statistical analysis and visualization.\n",
        "○ Understand the distribution of ratings, genres, and other relevant features.\n",
        "3. Data Preprocessing:\n",
        "○ Vectorize categorical features such as genres and types.\n",
        "\n",
        "○ Scale numerical features to ensure they contribute equally to the model.\n",
        "○ Reduce dimensionality using techniques like PCA (Principal Component\n",
        "Analysis) to handle high-dimensional data.\n",
        "\n",
        "4. Model Training and Evaluation:\n",
        "○ Implement various machine learning algorithms to build the recommendation\n",
        "model.\n",
        "○ Evaluate model performance using appropriate metrics and select the best-\n",
        "performing model.\n",
        "5. Hyperparameter Tuning:\n",
        "○ Optimize model performance by tuning hyperparameters.\n",
        "○ Use techniques like Grid Search and Cross-Validation to find the optimal\n",
        "parameters.\n",
        "6. Model Pickling:\n",
        "○ Serialize the trained model using pickling for deployment in the Streamlit app.\n",
        "○ Ensure the model can be efficiently loaded and used for real-time\n",
        "recommendations.\n",
        "7. Integration with Streamlit App:\n",
        "○ Deploy the pickled model in the Streamlit app.\n",
        "○ Ensure seamless integration to provide users with personalized anime\n",
        "recommendations.\n",
        "\n",
        "#### 1.4. Data Source <a id=\"section_1_4\"></a>\n",
        "- The dataset used in this project comprises of three cvs namely anime.csv, test.csv and train.csv which contain a diverse collection of anime movies, each tagged with a specific category.\n",
        "- The dataset includes multiple fields for each movie:\n",
        "\n",
        "#### 1.5. Importance of the Study <a id=\"section_1_5\"></a>.\n",
        "- To build aj anime recommender system to make it easy for users to fing anime that are similar to what they like.\n",
        "\n",
        "\n",
        "#### 1.6. Key Questions or Hypotheses <a id=\"section_1_6\"></a>\n",
        "\n",
        "#### 1.7. Methodology Overview <a id=\"section_1_7\"></a>\n",
        "The methodology for this project includes several key steps:\n",
        "- **Data Cleaning:** This step involves filtering out non-essential content to remove irrelevant information, managing incomplete data entries by handling missing values, standardizing the text format by normalizing text (e.g., converting to lowercase), and eliminating non-alphanumeric characters along with common, insignificant words through the removal of special characters and stop words.\n",
        "- **Data Preprocessing:** This step involves feature extraction which is performed to transform raw text data into meaningful numerical representations. Techniques used include Term Frequency-Inverse Document Frequency (TF-IDF) for evaluating word importance in documents, word embeddings (such as Word2Vec and GloVe) for mapping words in vector space, and tokenization, which splits text into individual tokens for further analysis.\n",
        "- **Exploratory Data Analysis (EDA):** This step involves analyzing the dataset to uncover patterns, trends, and relationships within the data. This step includes visualizing the distribution of categories, word frequency analysis, and other statistical measures.\n",
        "- **Model Building:** This step involves training various machine learning models, including traditional Unsupervised learning algorithms like Kmeans and DBSCAN Clustering, as well as advanced models like KNN.\n",
        "- **Model Evaluation:** This step involves assessing the performance of the models using metrics such as Davies-Bouldin and Silhouette scores and RMSE. This step involves fine-tuning hyperparameters and selecting the best-performing model based on the evaluation metrics.\n",
        "- **Tools and Libraries:** Utilizing Python and its libraries, for data manipulation, Numpy for numerical operations, Scikit-learn for machine learning algorithms, and TensorFlow/Keras for deep learning models.\n"
      ]
    },
    {
      "cell_type": "markdown",
      "metadata": {
        "id": "aica83rkX5ig"
      },
      "source": [
        "## 2. Importing Packages <a class=\"anchor\" id=\"chapter2\"></a>\n",
        "\n"
      ]
    },
    {
      "cell_type": "markdown",
      "source": [
        "This code imports a comprehensive set of libraries and tools essential for data analysis, machine learning, and natural language processing. Key libraries include `pandas` for data manipulation, `numpy` for numerical operations, and `matplotlib`/`seaborn` for data visualization. `scikit-learn` provides functionalities for machine learning, including feature extraction, model training, and evaluation. `nltk` is used for text processing, including tokenization, stemming, and lemmatization. Additionally, `BeautifulSoup` facilitates web scraping, and `mlflow` is used for managing machine learning experiments. The notebook also configures warnings to be ignored and ensures plots are displayed inline.\n"
      ],
      "metadata": {
        "id": "QF7OXI1thQF3"
      }
    },
    {
      "cell_type": "code",
      "execution_count": 2,
      "metadata": {
        "id": "fBiBefqOX5ig"
      },
      "outputs": [],
      "source": [
        "# Libraries for data loading, manipulation and analysis\n",
        "from bs4 import BeautifulSoup\n",
        "import string\n",
        "import numpy as np\n",
        "import pandas as pd\n",
        "import csv\n",
        "import seaborn as sns\n",
        "import matplotlib.pyplot as plt\n",
        "import string\n",
        "import re\n",
        "from sklearn.preprocessing import OneHotEncoder, StandardScaler\n",
        "import nltk\n",
        "from nltk.tokenize import word_tokenize\n",
        "from nltk.corpus import stopwords\n",
        "from nltk.stem import WordNetLemmatizer, PorterStemmer\n",
        "from sklearn.feature_extraction.text import TfidfVectorizer\n",
        "from sklearn.model_selection import train_test_split, RandomizedSearchCV\n",
        "from collections import Counter\n",
        "from nltk.probability import FreqDist\n",
        "from sklearn.pipeline import Pipeline\n",
        "from scipy.stats import uniform, randint\n",
        "from sklearn.decomposition import PCA\n",
        "import mlflow\n",
        "import mlflow.sklearn\n",
        "from sklearn.cluster import KMeans\n",
        "from sklearn.metrics import silhouette_score, davies_bouldin_score\n",
        "from sklearn.base import BaseEstimator, TransformerMixin\n",
        "import pickle\n",
        "import os\n",
        "from sklearn.neighbors import NearestNeighbors\n",
        "# Displays output inline\n",
        "%matplotlib inline\n",
        "\n",
        "# Libraries for Handing Errors\n",
        "import warnings\n",
        "warnings.filterwarnings('ignore')"
      ]
    },
    {
      "cell_type": "markdown",
      "metadata": {
        "id": "F9Eq3fT7X5ii"
      },
      "source": [
        "## 3. Loading Data <a class=\"anchor\" id=\"chapter3\"></a>\n",
        "\n",
        "The data used for this project was located in the Data folder which contains three files `anime.csv`  `test.csv` and `train.csv`. To better manipulate and analyse the `anime.csv`, `test.csv` and `train.csv` files, it was loaded into a Pandas Data Frame using the Pandas function, `pd.read_csv()` and referred to as `train_data` and `test_data`. For demonstrating the column index in the dataframe , `index_col=False` was implemented."
      ]
    },
    {
      "cell_type": "code",
      "execution_count": 3,
      "metadata": {
        "id": "LHVNyw3AX5ii"
      },
      "outputs": [],
      "source": [
        "# Loading the data\n",
        "anime_df = pd.read_csv('anime.csv')\n",
        "train_df = pd.read_csv('train.csv')\n",
        "test_df = pd.read_csv('test.csv')"
      ]
    },
    {
      "cell_type": "code",
      "execution_count": 4,
      "metadata": {
        "colab": {
          "base_uri": "https://localhost:8080/"
        },
        "id": "o24qOX1fX5ij",
        "outputId": "b5d2193c-ef8c-4ec6-c946-c1b766ed0c6e"
      },
      "outputs": [
        {
          "output_type": "stream",
          "name": "stdout",
          "text": [
            " Anime Dataset shape: (12294, 7)\n",
            " Train Dataset shape: (5703554, 3)\n",
            " Test Dataset shape: (633686, 2)\n"
          ]
        }
      ],
      "source": [
        "print(f' Anime Dataset shape: {anime_df.shape}')\n",
        "print(f' Train Dataset shape: {train_df.shape}')\n",
        "print(f' Test Dataset shape: {test_df.shape}')"
      ]
    },
    {
      "cell_type": "code",
      "execution_count": null,
      "metadata": {
        "colab": {
          "base_uri": "https://localhost:8080/"
        },
        "id": "pFQw3-JVX5ik",
        "outputId": "44e1293b-883f-44e7-8adf-752090a923b6"
      },
      "outputs": [
        {
          "name": "stdout",
          "output_type": "stream",
          "text": [
            "<class 'pandas.core.frame.DataFrame'>\n",
            "RangeIndex: 12294 entries, 0 to 12293\n",
            "Data columns (total 7 columns):\n",
            " #   Column    Non-Null Count  Dtype  \n",
            "---  ------    --------------  -----  \n",
            " 0   anime_id  12294 non-null  int64  \n",
            " 1   name      12294 non-null  object \n",
            " 2   genre     12232 non-null  object \n",
            " 3   type      12269 non-null  object \n",
            " 4   episodes  12294 non-null  object \n",
            " 5   rating    12064 non-null  float64\n",
            " 6   members   12294 non-null  int64  \n",
            "dtypes: float64(1), int64(2), object(4)\n",
            "memory usage: 672.5+ KB\n",
            " Anime Dataset Information:\n",
            "None\n",
            "\n",
            "<class 'pandas.core.frame.DataFrame'>\n",
            "RangeIndex: 5703554 entries, 0 to 5703553\n",
            "Data columns (total 3 columns):\n",
            " #   Column    Dtype\n",
            "---  ------    -----\n",
            " 0   user_id   int64\n",
            " 1   anime_id  int64\n",
            " 2   rating    int64\n",
            "dtypes: int64(3)\n",
            "memory usage: 130.5 MB\n",
            " Train Dataset Information:\n",
            "None\n",
            "\n",
            "<class 'pandas.core.frame.DataFrame'>\n",
            "RangeIndex: 633686 entries, 0 to 633685\n",
            "Data columns (total 2 columns):\n",
            " #   Column    Non-Null Count   Dtype\n",
            "---  ------    --------------   -----\n",
            " 0   user_id   633686 non-null  int64\n",
            " 1   anime_id  633686 non-null  int64\n",
            "dtypes: int64(2)\n",
            "memory usage: 9.7 MB\n",
            " Test Dataset Information:\n",
            "None\n",
            "\n"
          ]
        }
      ],
      "source": [
        "print(f' Anime Dataset Information:\\n{anime_df.info()}\\n')\n",
        "print(f' Train Dataset Information:\\n{train_df.info()}\\n')\n",
        "print(f' Test Dataset Information:\\n{test_df.info()}\\n')"
      ]
    },
    {
      "cell_type": "code",
      "execution_count": null,
      "metadata": {
        "colab": {
          "base_uri": "https://localhost:8080/"
        },
        "id": "HcFyZSYFX5ik",
        "outputId": "92144aa5-1f43-4441-e35e-b99069945cc1"
      },
      "outputs": [
        {
          "name": "stdout",
          "output_type": "stream",
          "text": [
            " Anime Dataset Information:\n",
            "           anime_id        rating       members\n",
            "count  12294.000000  12064.000000  1.229400e+04\n",
            "mean   14058.221653      6.473902  1.807134e+04\n",
            "std    11455.294701      1.026746  5.482068e+04\n",
            "min        1.000000      1.670000  5.000000e+00\n",
            "25%     3484.250000      5.880000  2.250000e+02\n",
            "50%    10260.500000      6.570000  1.550000e+03\n",
            "75%    24794.500000      7.180000  9.437000e+03\n",
            "max    34527.000000     10.000000  1.013917e+06\n",
            "\n",
            " Train Dataset Information:\n",
            "            user_id      anime_id        rating\n",
            "count  5.703554e+06  5.703554e+06  5.703554e+06\n",
            "mean   3.674460e+04  8.902143e+03  7.808691e+00\n",
            "std    2.101174e+04  8.882175e+03  1.572449e+00\n",
            "min    1.000000e+00  1.000000e+00  1.000000e+00\n",
            "25%    1.898500e+04  1.239000e+03  7.000000e+00\n",
            "50%    3.680200e+04  6.213000e+03  8.000000e+00\n",
            "75%    5.487300e+04  1.407500e+04  9.000000e+00\n",
            "max    7.351600e+04  3.447500e+04  1.000000e+01\n",
            "\n",
            " Test Dataset Information:\n",
            "             user_id       anime_id\n",
            "count  633686.000000  633686.000000\n",
            "mean    36777.752605    8909.389543\n",
            "std     21028.330970    8880.430436\n",
            "min         1.000000       1.000000\n",
            "25%     18974.000000    1240.000000\n",
            "50%     36919.000000    6213.000000\n",
            "75%     54908.000000   14131.000000\n",
            "max     73516.000000   34367.000000\n",
            "\n"
          ]
        }
      ],
      "source": [
        "print(f' Anime Dataset Information:\\n{anime_df.describe()}\\n')\n",
        "print(f' Train Dataset Information:\\n{train_df.describe()}\\n')\n",
        "print(f' Test Dataset Information:\\n{test_df.describe()}\\n')"
      ]
    },
    {
      "cell_type": "markdown",
      "metadata": {
        "id": "aRPqP4zmX5ik"
      },
      "source": [
        "### 3.1 Exploring the data"
      ]
    },
    {
      "cell_type": "markdown",
      "source": [
        "The code below defines two functions for analyzing DataFrames. The `analyze_dataframe` function provides a summary of the DataFrame by displaying the first few rows, checking for 'Unknown' values (case-insensitive) in each column, identifying duplicate rows, and reporting missing values. The `check_negative_values` function examines specified columns of the DataFrame for negative values, excluding columns listed in `skip_columns`. This function helps ensure that numerical data does not contain erroneous negative values where they are not expected. The `skip_columns` list specifies columns that should not be checked for negative values.\n"
      ],
      "metadata": {
        "id": "HjD5r6gHhlkB"
      }
    },
    {
      "cell_type": "code",
      "execution_count": null,
      "metadata": {
        "id": "E-Bg5_e0X5il"
      },
      "outputs": [],
      "source": [
        "def analyze_dataframe(df, name):\n",
        "    # Display the first few rows\n",
        "    print(f\"First few rows of {name} DataFrame:\")\n",
        "    print(df.head())\n",
        "    print(\"\\n\")\n",
        "\n",
        "    # Check for 'Unknown' values (case insensitive) in each column\n",
        "    unknown_values = (df.applymap(lambda x: str(x).lower() == 'unknown' if pd.notnull(x) else False)).sum()\n",
        "    print(f\"'Unknown' values in each column of {name} DataFrame:\")\n",
        "    print(unknown_values)\n",
        "    print(\"\\n\")\n",
        "\n",
        "    # Check for duplicate rows\n",
        "    duplicate_rows = df.duplicated().sum()\n",
        "    print(f\"Number of duplicate rows in {name} DataFrame: {duplicate_rows}\")\n",
        "    print(\"\\n\")\n",
        "\n",
        "    # Check for missing values\n",
        "    missing_values = df.isnull().sum()\n",
        "    print(f\"Missing values in {name} DataFrame:\")\n",
        "    print(missing_values)\n",
        "    print(\"\\n\")\n",
        "\n"
      ]
    },
    {
      "cell_type": "code",
      "execution_count": null,
      "metadata": {
        "colab": {
          "base_uri": "https://localhost:8080/"
        },
        "id": "U0EXRujqX5il",
        "outputId": "eb31c0fd-06b3-4cc3-c5d6-8f320549c1ee"
      },
      "outputs": [
        {
          "name": "stdout",
          "output_type": "stream",
          "text": [
            "First few rows of anime DataFrame:\n",
            "   anime_id                              name  \\\n",
            "0     32281                    Kimi no Na wa.   \n",
            "1      5114  Fullmetal Alchemist: Brotherhood   \n",
            "2     28977                          Gintama°   \n",
            "3      9253                       Steins;Gate   \n",
            "4      9969                     Gintama&#039;   \n",
            "\n",
            "                                               genre   type episodes  rating  \\\n",
            "0               Drama, Romance, School, Supernatural  Movie        1    9.37   \n",
            "1  Action, Adventure, Drama, Fantasy, Magic, Mili...     TV       64    9.26   \n",
            "2  Action, Comedy, Historical, Parody, Samurai, S...     TV       51    9.25   \n",
            "3                                   Sci-Fi, Thriller     TV       24    9.17   \n",
            "4  Action, Comedy, Historical, Parody, Samurai, S...     TV       51    9.16   \n",
            "\n",
            "   members  \n",
            "0   200630  \n",
            "1   793665  \n",
            "2   114262  \n",
            "3   673572  \n",
            "4   151266  \n",
            "\n",
            "\n",
            "'Unknown' values in each column of anime DataFrame:\n",
            "anime_id      0\n",
            "name          0\n",
            "genre         0\n",
            "type          0\n",
            "episodes    340\n",
            "rating        0\n",
            "members       0\n",
            "dtype: int64\n",
            "\n",
            "\n",
            "Number of duplicate rows in anime DataFrame: 0\n",
            "\n",
            "\n",
            "Missing values in anime DataFrame:\n",
            "anime_id      0\n",
            "name          0\n",
            "genre        62\n",
            "type         25\n",
            "episodes      0\n",
            "rating      230\n",
            "members       0\n",
            "dtype: int64\n",
            "\n",
            "\n",
            "First few rows of train DataFrame:\n",
            "   user_id  anime_id  rating\n",
            "0        1     11617      10\n",
            "1        1     11757      10\n",
            "2        1     15451      10\n",
            "3        2     11771      10\n",
            "4        3        20       8\n",
            "\n",
            "\n",
            "'Unknown' values in each column of train DataFrame:\n",
            "user_id     0\n",
            "anime_id    0\n",
            "rating      0\n",
            "dtype: int64\n",
            "\n",
            "\n",
            "Number of duplicate rows in train DataFrame: 1\n",
            "\n",
            "\n",
            "Missing values in train DataFrame:\n",
            "user_id     0\n",
            "anime_id    0\n",
            "rating      0\n",
            "dtype: int64\n",
            "\n",
            "\n",
            "First few rows of test DataFrame:\n",
            "   user_id  anime_id\n",
            "0    40763     21405\n",
            "1    68791     10504\n",
            "2    40487      1281\n",
            "3    55290       165\n",
            "4    72323     11111\n",
            "\n",
            "\n",
            "'Unknown' values in each column of test DataFrame:\n",
            "user_id     0\n",
            "anime_id    0\n",
            "dtype: int64\n",
            "\n",
            "\n",
            "Number of duplicate rows in test DataFrame: 0\n",
            "\n",
            "\n",
            "Missing values in test DataFrame:\n",
            "user_id     0\n",
            "anime_id    0\n",
            "dtype: int64\n",
            "\n",
            "\n"
          ]
        }
      ],
      "source": [
        "# Analyze each DataFrame\n",
        "analyze_dataframe(anime_df, \"anime\")\n",
        "analyze_dataframe(train_df, \"train\")\n",
        "analyze_dataframe(test_df, \"test\")"
      ]
    },
    {
      "cell_type": "code",
      "execution_count": null,
      "metadata": {
        "id": "LApPIoF6X5il"
      },
      "outputs": [],
      "source": [
        "def check_negative_values(df, skip_columns):\n",
        "\n",
        "    # Create a mask for columns that should be checked (excluding skip_columns)\n",
        "    check_columns = [col for col in df.columns if col not in skip_columns]\n",
        "\n",
        "    # Apply the negative value check to columns that are not skipped\n",
        "    negative_values = (df[check_columns].applymap(lambda y: float(y) < 0 if pd.notnull(y) else False)).sum()\n",
        "\n",
        "    return negative_values\n",
        "\n",
        "# Columns to skip\n",
        "skip_columns = ['genre', 'type', 'name', 'episodes']\n"
      ]
    },
    {
      "cell_type": "code",
      "execution_count": null,
      "metadata": {
        "colab": {
          "base_uri": "https://localhost:8080/"
        },
        "id": "qCUBBYwNX5il",
        "outputId": "18bd4598-c64f-4a94-a992-8251cfe00c54"
      },
      "outputs": [
        {
          "name": "stdout",
          "output_type": "stream",
          "text": [
            "Anime_df negative values:\n",
            "anime_id    0\n",
            "rating      0\n",
            "members     0\n",
            "dtype: int64\n",
            "\n",
            "Train_df negative values:\n",
            "user_id     0\n",
            "anime_id    0\n",
            "rating      0\n",
            "dtype: int64\n",
            "\n",
            "Test_df negative values:\n",
            "user_id     0\n",
            "anime_id    0\n",
            "dtype: int64\n",
            "\n"
          ]
        }
      ],
      "source": [
        "print(f'Anime_df negative values:\\n{check_negative_values(anime_df, skip_columns)}\\n')\n",
        "print(f'Train_df negative values:\\n{check_negative_values(train_df, skip_columns)}\\n')\n",
        "print(f'Test_df negative values:\\n{check_negative_values(test_df, skip_columns)}\\n')"
      ]
    },
    {
      "cell_type": "markdown",
      "metadata": {
        "id": "rpV2ImMFX5im"
      },
      "source": [
        "## 4. Data Cleaning <a class=\"anchor\" id=\"chapter4\"></a>\n",
        "Data cleaning is a crucial step in the data analysis process, involving the correction or removal of incorrect, corrupted, duplicate, or incomplete data within a dataset. Through various techniques such as filling missing values, removing outliers, and standardizing data formats, it ensures the accuracy and reliability of subsequent analyses and decision-making.\n",
        "\n",
        "The code below defines a `clean_data` function to preprocess DataFrames by performing several cleaning steps. It removes rows with any missing values, filters out rows with 'Unknown' entries in any column, and eliminates duplicate rows. The function is then applied to three datasets: `anime_df`, `train_df`, and `test_df`. After cleaning, the DataFrames are saved as CSV files. The cleaned DataFrames are also displayed to provide a preview of the processed data.\n"
      ]
    },
    {
      "cell_type": "code",
      "execution_count": 4,
      "metadata": {
        "colab": {
          "base_uri": "https://localhost:8080/"
        },
        "id": "htvk9wT3X5im",
        "outputId": "4587d663-23c1-4aaa-81e0-8f715c7deba2"
      },
      "outputs": [
        {
          "output_type": "stream",
          "name": "stdout",
          "text": [
            "Cleaned anime_df:\n",
            "   anime_id                              name  \\\n",
            "0     32281                    Kimi no Na wa.   \n",
            "1      5114  Fullmetal Alchemist: Brotherhood   \n",
            "2     28977                          Gintama°   \n",
            "3      9253                       Steins;Gate   \n",
            "4      9969                     Gintama&#039;   \n",
            "\n",
            "                                               genre   type episodes  rating  \\\n",
            "0               Drama, Romance, School, Supernatural  Movie        1    9.37   \n",
            "1  Action, Adventure, Drama, Fantasy, Magic, Mili...     TV       64    9.26   \n",
            "2  Action, Comedy, Historical, Parody, Samurai, S...     TV       51    9.25   \n",
            "3                                   Sci-Fi, Thriller     TV       24    9.17   \n",
            "4  Action, Comedy, Historical, Parody, Samurai, S...     TV       51    9.16   \n",
            "\n",
            "   members  \n",
            "0   200630  \n",
            "1   793665  \n",
            "2   114262  \n",
            "3   673572  \n",
            "4   151266  \n",
            "\n",
            "Cleaned train_df:\n",
            "   user_id  anime_id  rating\n",
            "0        1     11617      10\n",
            "1        1     11757      10\n",
            "2        1     15451      10\n",
            "3        2     11771      10\n",
            "4        3        20       8\n",
            "\n",
            "Cleaned test_df:\n",
            "   user_id  anime_id\n",
            "0    40763     21405\n",
            "1    68791     10504\n",
            "2    40487      1281\n",
            "3    55290       165\n",
            "4    72323     11111\n"
          ]
        }
      ],
      "source": [
        "def clean_data(df):\n",
        "    # Drop rows with any missing values\n",
        "    df_cleaned = df.dropna()\n",
        "\n",
        "    # Remove rows containing 'unknown' in any column\n",
        "    for column in df_cleaned.columns:\n",
        "        df_cleaned = df_cleaned[df_cleaned[column] != 'Unknown']\n",
        "\n",
        "        # Drop duplicate rows\n",
        "    df_cleaned = df_cleaned.drop_duplicates()\n",
        "\n",
        "    return df_cleaned\n",
        "\n",
        "# Apply the cleaning function to each dataset\n",
        "anime_df_cleaned = clean_data(anime_df)\n",
        "train_df_cleaned = clean_data(train_df)\n",
        "test_df_cleaned = clean_data(test_df)\n",
        "\n",
        "# Display the cleaned data\n",
        "print(\"Cleaned anime_df:\")\n",
        "print(anime_df_cleaned.head())\n",
        "print(\"\\nCleaned train_df:\")\n",
        "print(train_df_cleaned.head())\n",
        "print(\"\\nCleaned test_df:\")\n",
        "print(test_df_cleaned.head())\n"
      ]
    },
    {
      "cell_type": "code",
      "execution_count": null,
      "metadata": {
        "colab": {
          "base_uri": "https://localhost:8080/"
        },
        "id": "NXHABACqX5im",
        "outputId": "687dad0c-3d16-4402-db27-1805ca30e9a7"
      },
      "outputs": [
        {
          "name": "stdout",
          "output_type": "stream",
          "text": [
            "First few rows of anime DataFrame:\n",
            "   anime_id                              name  \\\n",
            "0     32281                    Kimi no Na wa.   \n",
            "1      5114  Fullmetal Alchemist: Brotherhood   \n",
            "2     28977                          Gintama°   \n",
            "3      9253                       Steins;Gate   \n",
            "4      9969                     Gintama&#039;   \n",
            "\n",
            "                                               genre   type episodes  rating  \\\n",
            "0               Drama, Romance, School, Supernatural  Movie        1    9.37   \n",
            "1  Action, Adventure, Drama, Fantasy, Magic, Mili...     TV       64    9.26   \n",
            "2  Action, Comedy, Historical, Parody, Samurai, S...     TV       51    9.25   \n",
            "3                                   Sci-Fi, Thriller     TV       24    9.17   \n",
            "4  Action, Comedy, Historical, Parody, Samurai, S...     TV       51    9.16   \n",
            "\n",
            "   members  \n",
            "0   200630  \n",
            "1   793665  \n",
            "2   114262  \n",
            "3   673572  \n",
            "4   151266  \n",
            "\n",
            "\n",
            "'Unknown' values in each column of anime DataFrame:\n",
            "anime_id    0\n",
            "name        0\n",
            "genre       0\n",
            "type        0\n",
            "episodes    0\n",
            "rating      0\n",
            "members     0\n",
            "dtype: int64\n",
            "\n",
            "\n",
            "Number of duplicate rows in anime DataFrame: 0\n",
            "\n",
            "\n",
            "Missing values in anime DataFrame:\n",
            "anime_id    0\n",
            "name        0\n",
            "genre       0\n",
            "type        0\n",
            "episodes    0\n",
            "rating      0\n",
            "members     0\n",
            "dtype: int64\n",
            "\n",
            "\n",
            "First few rows of test DataFrame:\n",
            "   user_id  anime_id\n",
            "0    40763     21405\n",
            "1    68791     10504\n",
            "2    40487      1281\n",
            "3    55290       165\n",
            "4    72323     11111\n",
            "\n",
            "\n",
            "'Unknown' values in each column of test DataFrame:\n",
            "user_id     0\n",
            "anime_id    0\n",
            "dtype: int64\n",
            "\n",
            "\n",
            "Number of duplicate rows in test DataFrame: 0\n",
            "\n",
            "\n",
            "Missing values in test DataFrame:\n",
            "user_id     0\n",
            "anime_id    0\n",
            "dtype: int64\n",
            "\n",
            "\n"
          ]
        }
      ],
      "source": [
        "# Verify data cleaning\n",
        "analyze_dataframe(anime_df_cleaned, \"anime\")\n",
        "analyze_dataframe(train_df_cleaned, \"train\")\n",
        "analyze_dataframe(test_df_cleaned, \"test\")\n"
      ]
    },
    {
      "cell_type": "code",
      "source": [
        "# Save cleaned DataFrames to CSV files\n",
        "anime_df_cleaned.to_csv('anime_df_cleaned.csv', index=False)\n",
        "train_df_cleaned.to_csv('train_df_cleaned.csv', index=False)\n",
        "test_df_cleaned.to_csv('test_df_cleaned.csv', index=False)"
      ],
      "metadata": {
        "id": "twP5WgbhiDpm"
      },
      "execution_count": null,
      "outputs": []
    },
    {
      "cell_type": "markdown",
      "metadata": {
        "id": "YobCXdT3X5im"
      },
      "source": [
        "## 5. Exploratory Data Analysis (EDA) <a class=\"anchor\" id=\"chapter5\"></a>\n",
        "\n",
        "\n",
        "To give a better understanding of the variables and the relationships between them, we set out to do an **Exploratory Data Analysis (EDA)** of our dataset. The main tasks includes investigating and summarizing the dataframe's main characteristics by data visualization methods and statistical analyses. Furthermore, investigating the dataset’s key features, summarizing its central characteristics, and employing both data visualisation techniques and statistical analyses to draw meaningful insights that can guide further research and data-driven decision making."
      ]
    },
    {
      "cell_type": "code",
      "execution_count": null,
      "metadata": {
        "id": "TtDICYT1X5in"
      },
      "outputs": [],
      "source": [
        "# Load Cleaned Datasets\n",
        "anime_df = pd.read_csv('cleaned_anime.csv')\n",
        "train_df = pd.read_csv('cleaned_train.csv')\n",
        "test_df = pd.read_csv('cleaned_test.csv')"
      ]
    },
    {
      "cell_type": "code",
      "execution_count": null,
      "metadata": {
        "colab": {
          "base_uri": "https://localhost:8080/"
        },
        "id": "6OKfsjvQX5in",
        "outputId": "e8ff7d31-604c-4710-8091-52a8a33ad255"
      },
      "outputs": [
        {
          "name": "stdout",
          "output_type": "stream",
          "text": [
            "count    5.703548e+06\n",
            "mean     7.808691e+00\n",
            "std      1.572449e+00\n",
            "min      1.000000e+00\n",
            "25%      7.000000e+00\n",
            "50%      8.000000e+00\n",
            "75%      9.000000e+00\n",
            "max      1.000000e+01\n",
            "Name: rating, dtype: float64\n",
            "count    12294.000000\n",
            "mean         6.473902\n",
            "std          1.017096\n",
            "min          1.670000\n",
            "25%          5.900000\n",
            "50%          6.550000\n",
            "75%          7.170000\n",
            "max         10.000000\n",
            "Name: rating, dtype: float64\n"
          ]
        }
      ],
      "source": [
        "print(train_df['rating'].describe())\n",
        "print(anime_df['rating'].describe())\n"
      ]
    },
    {
      "cell_type": "code",
      "execution_count": null,
      "metadata": {
        "colab": {
          "base_uri": "https://localhost:8080/",
          "height": 294
        },
        "id": "egbnKzmWX5in",
        "outputId": "baf1032e-0daa-4dd6-d36d-b30a2f24ca4d"
      },
      "outputs": [
        {
          "data": {
            "image/png": "[encoded data removed]",
            "text/plain": [
              "<Figure size 1200x600 with 1 Axes>"
            ]
          },
          "metadata": {},
          "output_type": "display_data"
        }
      ],
      "source": [
        "top_anime_by_members = anime_df.sort_values(by='members', ascending=False).head(20)\n",
        "plt.figure(figsize=(12, 6))\n",
        "sns.barplot(x='members', y='name', data=top_anime_by_members)\n",
        "plt.title('Top 20 Most Popular Anime by Members')\n",
        "plt.xlabel('Number of Members')\n",
        "plt.ylabel('Anime Name')\n",
        "plt.show()"
      ]
    },
    {
      "cell_type": "markdown",
      "source": [
        "#### Results interpretation:\n",
        "The above provided bar chart visually represents the top 20 most popular anime titles based on the number of members. \"Death Note\" emerges as the most popular anime, followed by \"Shingeki no Kyojin\" and \"Sword Art Online.\" The chart effectively communicates the relative popularity of each anime title, allowing for quick identification of trending and highly favored series among the members. This information is valuable for understanding audience preferences, making informed decisions about anime content acquisition, and tailoring marketing strategies accordingly."
      ],
      "metadata": {
        "id": "zsNI8N3cu7Fd"
      }
    },
    {
      "cell_type": "code",
      "execution_count": null,
      "metadata": {
        "colab": {
          "base_uri": "https://localhost:8080/",
          "height": 356
        },
        "id": "ucLy1fgTX5io",
        "outputId": "f6ece1ae-420f-42d2-fc56-125a2ba864c4"
      },
      "outputs": [
        {
          "data": {
            "image/png": "[encoded data removed]",
            "text/plain": [
              "<Figure size 1200x600 with 1 Axes>"
            ]
          },
          "metadata": {},
          "output_type": "display_data"
        }
      ],
      "source": [
        "plt.figure(figsize=(12, 6))\n",
        "sns.histplot(anime_df['rating'], bins=20, kde=True)\n",
        "plt.title('Distribution of Anime Ratings')\n",
        "plt.xlabel('Rating')\n",
        "plt.ylabel('Count')\n",
        "plt.show()"
      ]
    },
    {
      "cell_type": "markdown",
      "source": [
        "#### Results interpretation:\n",
        "The distribution of anime ratings is predominantly right-skewed, with a peak around 7-8 points. This indicates that a majority of anime titles receive relatively high ratings, with a smaller proportion garnering lower scores. The distribution also suggests that there might be a few exceptionally well-rated anime titles that contribute to the longer right tail of the distribution.\n",
        "\n",
        "The overlaid density curve, resembling a normal distribution, provides a smooth approximation of the data. While the actual distribution is skewed, the normal curve can be used as a benchmark for comparison and statistical modeling purposes.\n",
        "\n",
        "Understanding this distribution is valuable for several reasons:\n",
        "\n",
        "Identifying popular anime: The peak of the distribution highlights the rating range for the most popular anime titles.\n",
        "Understanding user preferences: The shape of the distribution provides insights into overall user preferences and expectations.\n",
        "Outlier detection: Extremely low or high ratings might indicate outliers or potential anomalies that require further investigation.\n",
        "Recommender system development: The distribution can inform the development of recommendation algorithms by understanding the rating patterns.\n",
        "Content acquisition strategy: Knowing the rating distribution can help in deciding which types of anime to acquire for the platform.\n",
        "By analyzing this distribution, stakeholders can make data-driven decisions related to anime content acquisition, marketing, and user experience."
      ],
      "metadata": {
        "id": "UTr49kvjvHkQ"
      }
    },
    {
      "cell_type": "code",
      "execution_count": null,
      "metadata": {
        "colab": {
          "base_uri": "https://localhost:8080/",
          "height": 346
        },
        "id": "WuxMENNuX5io",
        "outputId": "a91fb011-b3ca-4bd4-d1b9-cc70db2a601c"
      },
      "outputs": [
        {
          "data": {
            "image/png": "[encoded data removed]",
            "text/plain": [
              "<Figure size 1200x600 with 1 Axes>"
            ]
          },
          "metadata": {},
          "output_type": "display_data"
        }
      ],
      "source": [
        "plt.figure(figsize=(12, 6))\n",
        "sns.countplot(y='type', data=anime_df, order=anime_df['type'].value_counts().index)\n",
        "plt.title('Number of Anime by Type')\n",
        "plt.xlabel('Count')\n",
        "plt.ylabel('Type')\n",
        "plt.show()"
      ]
    },
    {
      "cell_type": "markdown",
      "source": [
        "#### Results interpretation:\n",
        "\n",
        "The provided bar chart illustrates the distribution of anime across different types. It's evident that 'TV' series dominate the dataset, followed by 'OVA' (Original Video Animation) and 'Movie'. Categories like 'Special', 'ONA' (Original Net Animation), and 'Music' have significantly lower counts. The 'Unknown' category suggests a portion of the dataset lacks clear type classification.\n",
        "\n",
        "Insights and Applications:\n",
        "\n",
        "Content Strategy: Understanding the distribution helps in focusing content acquisition and curation efforts on popular types like 'TV' and 'OVA' while also considering underrepresented categories.\n",
        "Platform Optimization: The data can inform platform design and user interface, prioritizing content types based on their prevalence.\n",
        "User Segmentation: Analyzing anime type preferences can help identify user segments with specific interests.\n",
        "Recommendation Systems: Understanding popular types can be used to recommend similar content to users.\n",
        "Overall, the chart provides a foundational understanding of the anime dataset, enabling data-driven decisions for platform management and user engagement."
      ],
      "metadata": {
        "id": "dOPwTLUVvrlZ"
      }
    },
    {
      "cell_type": "code",
      "execution_count": null,
      "metadata": {
        "colab": {
          "base_uri": "https://localhost:8080/",
          "height": 344
        },
        "id": "6zOsLcJhX5ip",
        "outputId": "d8b0721c-1add-4ae1-8836-cfaf119d8034"
      },
      "outputs": [
        {
          "data": {
            "image/png": "[encoded data removed]",
            "text/plain": [
              "<Figure size 1200x600 with 1 Axes>"
            ]
          },
          "metadata": {},
          "output_type": "display_data"
        }
      ],
      "source": [
        "genres = anime_df['genre'].str.split(', ', expand=True).stack().value_counts().head(10)\n",
        "plt.figure(figsize=(12, 6))\n",
        "sns.barplot(x=genres.values, y=genres.index)\n",
        "plt.title('Top 10 Genres by Number of Anime')\n",
        "plt.xlabel('Number of Anime')\n",
        "plt.ylabel('Genre')\n",
        "plt.show()\n"
      ]
    },
    {
      "cell_type": "markdown",
      "source": [
        "#### Results interpretation:\n",
        "\n",
        "The provided bar chart effectively visualizes the distribution of the top 10 anime genres based on the number of titles within each genre. \"Comedy\" emerges as the most prevalent genre, followed closely by \"Action.\" Genres like \"Adventure,\" \"Fantasy,\" and \"Sci-Fi\" also hold a substantial presence. Conversely, \"Romance,\" \"School,\" and \"Kids\" genres appear to have a lower representation in the dataset.\n",
        "\n",
        "This analysis offers valuable insights for understanding the anime landscape. It can inform content acquisition strategies, platform design, and marketing efforts by highlighting popular genres and identifying areas for potential expansion. Additionally, it can serve as a foundation for further exploration of genre combinations and audience preferences."
      ],
      "metadata": {
        "id": "-Pf5vLZcvud0"
      }
    },
    {
      "cell_type": "markdown",
      "metadata": {
        "id": "lPG3NyG5X5ip"
      },
      "source": [
        "### Train CVS EDA"
      ]
    },
    {
      "cell_type": "code",
      "execution_count": null,
      "metadata": {
        "colab": {
          "base_uri": "https://localhost:8080/",
          "height": 365
        },
        "id": "vgwvf7M4X5ip",
        "outputId": "5e916b8e-b5ce-4055-8ab5-7c6f870363ca"
      },
      "outputs": [
        {
          "data": {
            "image/png": "[encoded data removed]",
            "text/plain": [
              "<Figure size 1200x600 with 1 Axes>"
            ]
          },
          "metadata": {},
          "output_type": "display_data"
        }
      ],
      "source": [
        "plt.figure(figsize=(12, 6))\n",
        "sns.histplot(train_df['rating'], bins=10, kde=True)\n",
        "plt.title('Distribution of User Ratings')\n",
        "plt.xlabel('Rating')\n",
        "plt.ylabel('Count')\n",
        "plt.show()"
      ]
    },
    {
      "cell_type": "markdown",
      "source": [
        "#### Results interpretation:\n",
        "\n",
        "The provided distribution of user ratings exhibits a multimodal pattern with distinct peaks at specific rating values. This indicates that users tend to cluster their ratings around particular points, suggesting potential preference patterns or rating biases. The presence of multiple peaks suggests distinct groups of users with varying rating tendencies.\n",
        "\n",
        "The distribution also shows a higher frequency of ratings in the upper range, suggesting a general positive sentiment towards the items being rated. However, the presence of lower-rated items, as evidenced by the smaller peaks in the lower rating range, indicates room for improvement in terms of content or user experience.\n",
        "\n",
        "Understanding this distribution is crucial for several reasons:\n",
        "\n",
        "Identifying rating patterns: Recognizing the clustering of ratings can help identify potential factors influencing user preferences (e.g., genre, release date, or other item attributes).\n",
        "Improving recommendation systems: This information can be used to refine recommendation algorithms by considering user rating behavior and biases.\n",
        "Content optimization: Identifying rating trends can help in understanding user expectations and tailoring content accordingly.\n",
        "Outlier detection: Unusual rating patterns might indicate data anomalies or specific user groups requiring further analysis.\n",
        "Overall, this distribution provides valuable insights into user behavior and preferences, enabling data-driven decisions to enhance the user experience."
      ],
      "metadata": {
        "id": "GMn4fu6Bvwnw"
      }
    },
    {
      "cell_type": "code",
      "execution_count": null,
      "metadata": {
        "colab": {
          "base_uri": "https://localhost:8080/",
          "height": 353
        },
        "id": "_G5j5BftX5iq",
        "outputId": "a8ac2021-4c54-4d5b-f452-0829b24d769d"
      },
      "outputs": [
        {
          "data": {
            "image/png": "[encoded data removed]",
            "text/plain": [
              "<Figure size 1200x600 with 1 Axes>"
            ]
          },
          "metadata": {},
          "output_type": "display_data"
        }
      ],
      "source": [
        "user_avg_ratings = train_df.groupby('user_id')['rating'].mean()\n",
        "plt.figure(figsize=(12, 6))\n",
        "sns.histplot(user_avg_ratings, bins=20, kde=True)\n",
        "plt.title('Distribution of Average Rating per User')\n",
        "plt.xlabel('Average Rating')\n",
        "plt.ylabel('Count')\n",
        "plt.show()"
      ]
    },
    {
      "cell_type": "markdown",
      "source": [
        "#### Results interpretation:\n",
        "\n",
        "The distribution of average ratings per user exhibits a clear right-skewed pattern, with a peak around a rating of 8. This indicates that a significant portion of users tend to rate items relatively highly. The distribution also features a long tail towards higher ratings, suggesting the presence of a group of users who consistently provide exceptionally high ratings. The overlaying density curve reinforces this observation, providing a smooth representation of the data's distribution.\n",
        "\n",
        "Implications and Potential Actions:\n",
        "\n",
        "User Segmentation: The distribution suggests potential segments of users: those who consistently rate highly and those with a more neutral rating pattern.\n",
        "Outlier Detection: Users with exceptionally low or high average ratings might be outliers worthy of further investigation.\n",
        "Recommendation Systems: Understanding this rating distribution can help refine recommendation algorithms to cater to different user segments.\n",
        "Content Analysis: Analyzing the content preferred by users with high average ratings could provide insights into popular genres or themes.\n",
        "By analyzing this distribution, stakeholders can gain valuable insights into user behavior and preferences, enabling data-driven decisions to enhance the platform's offerings and user experience."
      ],
      "metadata": {
        "id": "4ldSYGvavy-z"
      }
    },
    {
      "cell_type": "markdown",
      "metadata": {
        "id": "0l_Smr7MX5iq"
      },
      "source": [
        "### Test Dataset EDA"
      ]
    },
    {
      "cell_type": "code",
      "execution_count": null,
      "metadata": {
        "colab": {
          "base_uri": "https://localhost:8080/",
          "height": 350
        },
        "id": "zRdvR63eX5ir",
        "outputId": "3216d253-72b5-48d1-9bd9-967c01b4d749"
      },
      "outputs": [
        {
          "data": {
            "image/png": "[encoded data removed]",
            "text/plain": [
              "<Figure size 1200x600 with 1 Axes>"
            ]
          },
          "metadata": {},
          "output_type": "display_data"
        }
      ],
      "source": [
        "test_user_counts = test_df['user_id'].value_counts()\n",
        "plt.figure(figsize=(12, 6))\n",
        "sns.histplot(test_user_counts, bins=20, kde=True)\n",
        "plt.title('Number of Anime Rated by Users in Test Set')\n",
        "plt.xlabel('Number of Anime Rated')\n",
        "plt.ylabel('Count')\n",
        "plt.show()"
      ]
    },
    {
      "cell_type": "markdown",
      "source": [
        "#### Results interpretation:\n",
        "\n",
        "The histogram depicts a heavily right-skewed distribution of the number of anime rated by users within the test set. This implies that a vast majority of users have rated a relatively small number of anime titles. A small yet significant portion of users, however, have engaged with a considerably larger number of anime, as evidenced by the long tail of the distribution.\n",
        "\n",
        "Implications:\n",
        "\n",
        "User Engagement: The data suggests that a significant portion of the user base has limited interaction with the platform, potentially indicating areas for improvement in user retention and engagement.\n",
        "Recommendation Systems: The distribution highlights the challenge of making accurate recommendations for users with a small rating history, commonly referred to as the \"cold start\" problem.\n",
        "Outlier Identification: Users at the extreme right of the distribution (those who have rated a large number of anime) might represent valuable sources of information for understanding deeper user preferences and behavior.\n",
        "Understanding this distribution is crucial for designing effective recommendation systems, targeted marketing campaigns, and content acquisition strategies. It helps identify user segments and potential areas for platform enhancement."
      ],
      "metadata": {
        "id": "uCPIZ8Zwv0V7"
      }
    },
    {
      "cell_type": "markdown",
      "source": [
        "### 5.1. EDA Insights and Recommendations\n",
        "\n",
        "Insights:\n",
        "User Engagement: A significant portion of users have limited interactions with the platform, as indicated by the right-skewed distribution of anime ratings per user.\n",
        "Popular Anime: Certain anime titles and genres are significantly more popular than others, as evidenced by the top anime and genre charts.\n",
        "User Rating Behavior: Users tend to rate anime positively, as indicated by the right-skewed distribution of user ratings.\n",
        "\n",
        "Recommendations:\n",
        "Increase User Engagement: Implement strategies to encourage users to rate more anime, such as gamification, rewards, or personalized recommendations based on limited data.\n",
        "Focus on Popular Genres: Prioritize content acquisition and promotion for genres with high popularity, such as \"Comedy\" and \"Action.\"\n",
        "User Segmentation: Conduct further analysis to identify distinct user segments based on rating behavior, anime preferences, and demographic information."
      ],
      "metadata": {
        "id": "OuHKyNVmzC38"
      }
    },
    {
      "cell_type": "markdown",
      "metadata": {
        "id": "-DAQvGYPX5ir"
      },
      "source": [
        "## 6. Data Preprocessing <a class=\"anchor\" id=\"chapter6\"></a>\n",
        "\n",
        "This section covers the data preprocessing, which involves preparing text data for analysis by removing errors and inconsistencies. It includes downloading NLTK packages, loading datasets, and cleaning the text by removing noise, punctuation,converting to lowercase, and removing contractions. The text is then tokenized, stop words are removed, and words are stemmed and lemmatized. Finally, the processed text is reassembled into strings, with an option to save the cleaned datasets to CSV files."
      ]
    },
    {
      "cell_type": "code",
      "execution_count": 19,
      "metadata": {
        "id": "A8j1VHFe2GHz"
      },
      "outputs": [],
      "source": [
        "from sklearn.feature_extraction.text import TfidfVectorizer\n",
        "from sklearn.preprocessing import StandardScaler, normalize\n",
        "from sklearn.decomposition import PCA\n",
        "from sklearn.pipeline import Pipeline\n",
        "from sklearn.model_selection import GridSearchCV\n",
        "from sklearn.metrics.pairwise import cosine_similarity\n",
        "from sklearn.cluster import KMeans\n",
        "from sklearn.metrics import pairwise_distances_argmin_min\n",
        "from scipy.sparse import csr_matrix, hstack\n",
        "from sklearn.cluster import KMeans, DBSCAN\n",
        "from sklearn.manifold import TSNE\n",
        "from sklearn.metrics import silhouette_score, mean_squared_error, davies_bouldin_score\n",
        "from sklearn.model_selection import RandomizedSearchCV\n",
        "from scipy.spatial.distance import pdist, squareform\n",
        "import pickle\n",
        "import umap\n",
        "from sklearn.neighbors import NearestNeighbors"
      ]
    },
    {
      "cell_type": "code",
      "execution_count": 7,
      "metadata": {
        "colab": {
          "base_uri": "https://localhost:8080/"
        },
        "id": "nvT_tanqKoRw",
        "outputId": "bd886a03-49f9-4a4e-8d08-a12bc8c8382e"
      },
      "outputs": [
        {
          "output_type": "stream",
          "name": "stderr",
          "text": [
            "[nltk_data] Downloading package stopwords to /root/nltk_data...\n",
            "[nltk_data]   Package stopwords is already up-to-date!\n",
            "[nltk_data] Downloading package punkt to /root/nltk_data...\n",
            "[nltk_data]   Package punkt is already up-to-date!\n",
            "[nltk_data] Downloading package wordnet to /root/nltk_data...\n",
            "[nltk_data]   Package wordnet is already up-to-date!\n"
          ]
        }
      ],
      "source": [
        "# Download required NLTK data\n",
        "nltk.download('stopwords')\n",
        "nltk.download('punkt')\n",
        "nltk.download('wordnet')\n",
        "\n",
        "def clean_text(text):\n",
        "    # Remove HTML tags\n",
        "    text = BeautifulSoup(text, \"html.parser\").get_text()\n",
        "    # Lowercase\n",
        "    text = text.lower()\n",
        "    # Remove punctuation\n",
        "    text = text.translate(str.maketrans('', '', string.punctuation))\n",
        "    # Tokenize\n",
        "    tokens = word_tokenize(text)\n",
        "    # Remove stopwords\n",
        "    tokens = [word for word in tokens if word not in stopwords.words('english')]\n",
        "    # Lemmatize\n",
        "    lemmatizer = WordNetLemmatizer()\n",
        "    tokens = [lemmatizer.lemmatize(word) for word in tokens]\n",
        "    return ' '.join(tokens)\n"
      ]
    },
    {
      "cell_type": "code",
      "execution_count": 8,
      "metadata": {
        "id": "a8Lc6VN-X5iv"
      },
      "outputs": [],
      "source": [
        "# Clean the 'name' and 'genre' columns for train and test datasets\n",
        "anime_df_cleaned[['name', 'genre', 'type']] = anime_df_cleaned[['name', 'genre','type']].applymap(clean_text)"
      ]
    },
    {
      "cell_type": "code",
      "execution_count": 9,
      "metadata": {
        "id": "R1j9cyypRz8-"
      },
      "outputs": [],
      "source": [
        "# Function to clean white spaces in a column\n",
        "def clean_white_spaces(column):\n",
        "    return column.str.strip().str.replace(' ', '', regex=True)\n",
        "\n",
        "# Clean white spaces in 'genre' and 'name' columns\n",
        "anime_df_cleaned['genre'] = clean_white_spaces(anime_df_cleaned['genre'])\n",
        "anime_df_cleaned['name'] = clean_white_spaces(anime_df_cleaned['name'])"
      ]
    },
    {
      "cell_type": "code",
      "execution_count": null,
      "metadata": {
        "colab": {
          "base_uri": "https://localhost:8080/",
          "height": 423
        },
        "id": "0v2D0hUAyRT_",
        "outputId": "b4193d44-0b91-46f2-8be9-d44ffcb29554",
        "scrolled": true
      },
      "outputs": [
        {
          "output_type": "execute_result",
          "data": {
            "text/plain": [
              "       anime_id                                      name  \\\n",
              "0         32281                                  kiminawa   \n",
              "1          5114             fullmetalalchemistbrotherhood   \n",
              "2         28977                                  gintama°   \n",
              "3          9253                                steinsgate   \n",
              "4          9969                                   gintama   \n",
              "...         ...                                       ...   \n",
              "12289      9316       toushindailoverminamitaimechaminami   \n",
              "12290      5543                                     world   \n",
              "12291      5621                  violencegekigadavidhoshi   \n",
              "12292      6133  violencegekigashindavidhoshiinmadensetsu   \n",
              "12293     26081                  yasujipornoramayacchimae   \n",
              "\n",
              "                                                 genre   type episodes  \\\n",
              "0                       dramaromanceschoolsupernatural  movie        1   \n",
              "1      actionadventuredramafantasymagicmilitaryshounen     tv       64   \n",
              "2      actioncomedyhistoricalparodysamuraiscifishounen     tv       51   \n",
              "3                                        scifithriller     tv       24   \n",
              "4      actioncomedyhistoricalparodysamuraiscifishounen     tv       51   \n",
              "...                                                ...    ...      ...   \n",
              "12289                                           hentai   ovum        1   \n",
              "12290                                           hentai   ovum        1   \n",
              "12291                                           hentai   ovum        4   \n",
              "12292                                           hentai   ovum        1   \n",
              "12293                                           hentai  movie        1   \n",
              "\n",
              "       rating  members  \n",
              "0        9.37   200630  \n",
              "1        9.26   793665  \n",
              "2        9.25   114262  \n",
              "3        9.17   673572  \n",
              "4        9.16   151266  \n",
              "...       ...      ...  \n",
              "12289    4.15      211  \n",
              "12290    4.28      183  \n",
              "12291    4.88      219  \n",
              "12292    4.98      175  \n",
              "12293    5.46      142  \n",
              "\n",
              "[11830 rows x 7 columns]"
            ],
            "text/html": [
              "\n",
              "  <div id=\"df-852d77dd-2022-4fe8-af69-d8ba52fd86e1\" class=\"colab-df-container\">\n",
              "    <div>\n",
              "<style scoped>\n",
              "    .dataframe tbody tr th:only-of-type {\n",
              "        vertical-align: middle;\n",
              "    }\n",
              "\n",
              "    .dataframe tbody tr th {\n",
              "        vertical-align: top;\n",
              "    }\n",
              "\n",
              "    .dataframe thead th {\n",
              "        text-align: right;\n",
              "    }\n",
              "</style>\n",
              "<table border=\"1\" class=\"dataframe\">\n",
              "  <thead>\n",
              "    <tr style=\"text-align: right;\">\n",
              "      <th></th>\n",
              "      <th>anime_id</th>\n",
              "      <th>name</th>\n",
              "      <th>genre</th>\n",
              "      <th>type</th>\n",
              "      <th>episodes</th>\n",
              "      <th>rating</th>\n",
              "      <th>members</th>\n",
              "    </tr>\n",
              "  </thead>\n",
              "  <tbody>\n",
              "    <tr>\n",
              "      <th>0</th>\n",
              "      <td>32281</td>\n",
              "      <td>kiminawa</td>\n",
              "      <td>dramaromanceschoolsupernatural</td>\n",
              "      <td>movie</td>\n",
              "      <td>1</td>\n",
              "      <td>9.37</td>\n",
              "      <td>200630</td>\n",
              "    </tr>\n",
              "    <tr>\n",
              "      <th>1</th>\n",
              "      <td>5114</td>\n",
              "      <td>fullmetalalchemistbrotherhood</td>\n",
              "      <td>actionadventuredramafantasymagicmilitaryshounen</td>\n",
              "      <td>tv</td>\n",
              "      <td>64</td>\n",
              "      <td>9.26</td>\n",
              "      <td>793665</td>\n",
              "    </tr>\n",
              "    <tr>\n",
              "      <th>2</th>\n",
              "      <td>28977</td>\n",
              "      <td>gintama°</td>\n",
              "      <td>actioncomedyhistoricalparodysamuraiscifishounen</td>\n",
              "      <td>tv</td>\n",
              "      <td>51</td>\n",
              "      <td>9.25</td>\n",
              "      <td>114262</td>\n",
              "    </tr>\n",
              "    <tr>\n",
              "      <th>3</th>\n",
              "      <td>9253</td>\n",
              "      <td>steinsgate</td>\n",
              "      <td>scifithriller</td>\n",
              "      <td>tv</td>\n",
              "      <td>24</td>\n",
              "      <td>9.17</td>\n",
              "      <td>673572</td>\n",
              "    </tr>\n",
              "    <tr>\n",
              "      <th>4</th>\n",
              "      <td>9969</td>\n",
              "      <td>gintama</td>\n",
              "      <td>actioncomedyhistoricalparodysamuraiscifishounen</td>\n",
              "      <td>tv</td>\n",
              "      <td>51</td>\n",
              "      <td>9.16</td>\n",
              "      <td>151266</td>\n",
              "    </tr>\n",
              "    <tr>\n",
              "      <th>...</th>\n",
              "      <td>...</td>\n",
              "      <td>...</td>\n",
              "      <td>...</td>\n",
              "      <td>...</td>\n",
              "      <td>...</td>\n",
              "      <td>...</td>\n",
              "      <td>...</td>\n",
              "    </tr>\n",
              "    <tr>\n",
              "      <th>12289</th>\n",
              "      <td>9316</td>\n",
              "      <td>toushindailoverminamitaimechaminami</td>\n",
              "      <td>hentai</td>\n",
              "      <td>ovum</td>\n",
              "      <td>1</td>\n",
              "      <td>4.15</td>\n",
              "      <td>211</td>\n",
              "    </tr>\n",
              "    <tr>\n",
              "      <th>12290</th>\n",
              "      <td>5543</td>\n",
              "      <td>world</td>\n",
              "      <td>hentai</td>\n",
              "      <td>ovum</td>\n",
              "      <td>1</td>\n",
              "      <td>4.28</td>\n",
              "      <td>183</td>\n",
              "    </tr>\n",
              "    <tr>\n",
              "      <th>12291</th>\n",
              "      <td>5621</td>\n",
              "      <td>violencegekigadavidhoshi</td>\n",
              "      <td>hentai</td>\n",
              "      <td>ovum</td>\n",
              "      <td>4</td>\n",
              "      <td>4.88</td>\n",
              "      <td>219</td>\n",
              "    </tr>\n",
              "    <tr>\n",
              "      <th>12292</th>\n",
              "      <td>6133</td>\n",
              "      <td>violencegekigashindavidhoshiinmadensetsu</td>\n",
              "      <td>hentai</td>\n",
              "      <td>ovum</td>\n",
              "      <td>1</td>\n",
              "      <td>4.98</td>\n",
              "      <td>175</td>\n",
              "    </tr>\n",
              "    <tr>\n",
              "      <th>12293</th>\n",
              "      <td>26081</td>\n",
              "      <td>yasujipornoramayacchimae</td>\n",
              "      <td>hentai</td>\n",
              "      <td>movie</td>\n",
              "      <td>1</td>\n",
              "      <td>5.46</td>\n",
              "      <td>142</td>\n",
              "    </tr>\n",
              "  </tbody>\n",
              "</table>\n",
              "<p>11830 rows × 7 columns</p>\n",
              "</div>\n",
              "    <div class=\"colab-df-buttons\">\n",
              "\n",
              "  <div class=\"colab-df-container\">\n",
              "    <button class=\"colab-df-convert\" onclick=\"convertToInteractive('df-852d77dd-2022-4fe8-af69-d8ba52fd86e1')\"\n",
              "            title=\"Convert this dataframe to an interactive table.\"\n",
              "            style=\"display:none;\">\n",
              "\n",
              "  <svg xmlns=\"http://www.w3.org/2000/svg\" height=\"24px\" viewBox=\"0 -960 960 960\">\n",
              "    <path d=\"M120-120v-720h720v720H120Zm60-500h600v-160H180v160Zm220 220h160v-160H400v160Zm0 220h160v-160H400v160ZM180-400h160v-160H180v160Zm440 0h160v-160H620v160ZM180-180h160v-160H180v160Zm440 0h160v-160H620v160Z\"/>\n",
              "  </svg>\n",
              "    </button>\n",
              "\n",
              "  <style>\n",
              "    .colab-df-container {\n",
              "      display:flex;\n",
              "      gap: 12px;\n",
              "    }\n",
              "\n",
              "    .colab-df-convert {\n",
              "      background-color: #E8F0FE;\n",
              "      border: none;\n",
              "      border-radius: 50%;\n",
              "      cursor: pointer;\n",
              "      display: none;\n",
              "      fill: #1967D2;\n",
              "      height: 32px;\n",
              "      padding: 0 0 0 0;\n",
              "      width: 32px;\n",
              "    }\n",
              "\n",
              "    .colab-df-convert:hover {\n",
              "      background-color: #E2EBFA;\n",
              "      box-shadow: 0px 1px 2px rgba(60, 64, 67, 0.3), 0px 1px 3px 1px rgba(60, 64, 67, 0.15);\n",
              "      fill: #174EA6;\n",
              "    }\n",
              "\n",
              "    .colab-df-buttons div {\n",
              "      margin-bottom: 4px;\n",
              "    }\n",
              "\n",
              "    [theme=dark] .colab-df-convert {\n",
              "      background-color: #3B4455;\n",
              "      fill: #D2E3FC;\n",
              "    }\n",
              "\n",
              "    [theme=dark] .colab-df-convert:hover {\n",
              "      background-color: #434B5C;\n",
              "      box-shadow: 0px 1px 3px 1px rgba(0, 0, 0, 0.15);\n",
              "      filter: drop-shadow(0px 1px 2px rgba(0, 0, 0, 0.3));\n",
              "      fill: #FFFFFF;\n",
              "    }\n",
              "  </style>\n",
              "\n",
              "    <script>\n",
              "      const buttonEl =\n",
              "        document.querySelector('#df-852d77dd-2022-4fe8-af69-d8ba52fd86e1 button.colab-df-convert');\n",
              "      buttonEl.style.display =\n",
              "        google.colab.kernel.accessAllowed ? 'block' : 'none';\n",
              "\n",
              "      async function convertToInteractive(key) {\n",
              "        const element = document.querySelector('#df-852d77dd-2022-4fe8-af69-d8ba52fd86e1');\n",
              "        const dataTable =\n",
              "          await google.colab.kernel.invokeFunction('convertToInteractive',\n",
              "                                                    [key], {});\n",
              "        if (!dataTable) return;\n",
              "\n",
              "        const docLinkHtml = 'Like what you see? Visit the ' +\n",
              "          '<a target=\"_blank\" href=https://colab.research.google.com/notebooks/data_table.ipynb>data table notebook</a>'\n",
              "          + ' to learn more about interactive tables.';\n",
              "        element.innerHTML = '';\n",
              "        dataTable['output_type'] = 'display_data';\n",
              "        await google.colab.output.renderOutput(dataTable, element);\n",
              "        const docLink = document.createElement('div');\n",
              "        docLink.innerHTML = docLinkHtml;\n",
              "        element.appendChild(docLink);\n",
              "      }\n",
              "    </script>\n",
              "  </div>\n",
              "\n",
              "\n",
              "<div id=\"df-a80bb928-7e85-44f0-b1a5-204eadada4ef\">\n",
              "  <button class=\"colab-df-quickchart\" onclick=\"quickchart('df-a80bb928-7e85-44f0-b1a5-204eadada4ef')\"\n",
              "            title=\"Suggest charts\"\n",
              "            style=\"display:none;\">\n",
              "\n",
              "<svg xmlns=\"http://www.w3.org/2000/svg\" height=\"24px\"viewBox=\"0 0 24 24\"\n",
              "     width=\"24px\">\n",
              "    <g>\n",
              "        <path d=\"M19 3H5c-1.1 0-2 .9-2 2v14c0 1.1.9 2 2 2h14c1.1 0 2-.9 2-2V5c0-1.1-.9-2-2-2zM9 17H7v-7h2v7zm4 0h-2V7h2v10zm4 0h-2v-4h2v4z\"/>\n",
              "    </g>\n",
              "</svg>\n",
              "  </button>\n",
              "\n",
              "<style>\n",
              "  .colab-df-quickchart {\n",
              "      --bg-color: #E8F0FE;\n",
              "      --fill-color: #1967D2;\n",
              "      --hover-bg-color: #E2EBFA;\n",
              "      --hover-fill-color: #174EA6;\n",
              "      --disabled-fill-color: #AAA;\n",
              "      --disabled-bg-color: #DDD;\n",
              "  }\n",
              "\n",
              "  [theme=dark] .colab-df-quickchart {\n",
              "      --bg-color: #3B4455;\n",
              "      --fill-color: #D2E3FC;\n",
              "      --hover-bg-color: #434B5C;\n",
              "      --hover-fill-color: #FFFFFF;\n",
              "      --disabled-bg-color: #3B4455;\n",
              "      --disabled-fill-color: #666;\n",
              "  }\n",
              "\n",
              "  .colab-df-quickchart {\n",
              "    background-color: var(--bg-color);\n",
              "    border: none;\n",
              "    border-radius: 50%;\n",
              "    cursor: pointer;\n",
              "    display: none;\n",
              "    fill: var(--fill-color);\n",
              "    height: 32px;\n",
              "    padding: 0;\n",
              "    width: 32px;\n",
              "  }\n",
              "\n",
              "  .colab-df-quickchart:hover {\n",
              "    background-color: var(--hover-bg-color);\n",
              "    box-shadow: 0 1px 2px rgba(60, 64, 67, 0.3), 0 1px 3px 1px rgba(60, 64, 67, 0.15);\n",
              "    fill: var(--button-hover-fill-color);\n",
              "  }\n",
              "\n",
              "  .colab-df-quickchart-complete:disabled,\n",
              "  .colab-df-quickchart-complete:disabled:hover {\n",
              "    background-color: var(--disabled-bg-color);\n",
              "    fill: var(--disabled-fill-color);\n",
              "    box-shadow: none;\n",
              "  }\n",
              "\n",
              "  .colab-df-spinner {\n",
              "    border: 2px solid var(--fill-color);\n",
              "    border-color: transparent;\n",
              "    border-bottom-color: var(--fill-color);\n",
              "    animation:\n",
              "      spin 1s steps(1) infinite;\n",
              "  }\n",
              "\n",
              "  @keyframes spin {\n",
              "    0% {\n",
              "      border-color: transparent;\n",
              "      border-bottom-color: var(--fill-color);\n",
              "      border-left-color: var(--fill-color);\n",
              "    }\n",
              "    20% {\n",
              "      border-color: transparent;\n",
              "      border-left-color: var(--fill-color);\n",
              "      border-top-color: var(--fill-color);\n",
              "    }\n",
              "    30% {\n",
              "      border-color: transparent;\n",
              "      border-left-color: var(--fill-color);\n",
              "      border-top-color: var(--fill-color);\n",
              "      border-right-color: var(--fill-color);\n",
              "    }\n",
              "    40% {\n",
              "      border-color: transparent;\n",
              "      border-right-color: var(--fill-color);\n",
              "      border-top-color: var(--fill-color);\n",
              "    }\n",
              "    60% {\n",
              "      border-color: transparent;\n",
              "      border-right-color: var(--fill-color);\n",
              "    }\n",
              "    80% {\n",
              "      border-color: transparent;\n",
              "      border-right-color: var(--fill-color);\n",
              "      border-bottom-color: var(--fill-color);\n",
              "    }\n",
              "    90% {\n",
              "      border-color: transparent;\n",
              "      border-bottom-color: var(--fill-color);\n",
              "    }\n",
              "  }\n",
              "</style>\n",
              "\n",
              "  <script>\n",
              "    async function quickchart(key) {\n",
              "      const quickchartButtonEl =\n",
              "        document.querySelector('#' + key + ' button');\n",
              "      quickchartButtonEl.disabled = true;  // To prevent multiple clicks.\n",
              "      quickchartButtonEl.classList.add('colab-df-spinner');\n",
              "      try {\n",
              "        const charts = await google.colab.kernel.invokeFunction(\n",
              "            'suggestCharts', [key], {});\n",
              "      } catch (error) {\n",
              "        console.error('Error during call to suggestCharts:', error);\n",
              "      }\n",
              "      quickchartButtonEl.classList.remove('colab-df-spinner');\n",
              "      quickchartButtonEl.classList.add('colab-df-quickchart-complete');\n",
              "    }\n",
              "    (() => {\n",
              "      let quickchartButtonEl =\n",
              "        document.querySelector('#df-a80bb928-7e85-44f0-b1a5-204eadada4ef button');\n",
              "      quickchartButtonEl.style.display =\n",
              "        google.colab.kernel.accessAllowed ? 'block' : 'none';\n",
              "    })();\n",
              "  </script>\n",
              "</div>\n",
              "\n",
              "  <div id=\"id_039d1b4b-530b-4ec9-81d3-d96806357927\">\n",
              "    <style>\n",
              "      .colab-df-generate {\n",
              "        background-color: #E8F0FE;\n",
              "        border: none;\n",
              "        border-radius: 50%;\n",
              "        cursor: pointer;\n",
              "        display: none;\n",
              "        fill: #1967D2;\n",
              "        height: 32px;\n",
              "        padding: 0 0 0 0;\n",
              "        width: 32px;\n",
              "      }\n",
              "\n",
              "      .colab-df-generate:hover {\n",
              "        background-color: #E2EBFA;\n",
              "        box-shadow: 0px 1px 2px rgba(60, 64, 67, 0.3), 0px 1px 3px 1px rgba(60, 64, 67, 0.15);\n",
              "        fill: #174EA6;\n",
              "      }\n",
              "\n",
              "      [theme=dark] .colab-df-generate {\n",
              "        background-color: #3B4455;\n",
              "        fill: #D2E3FC;\n",
              "      }\n",
              "\n",
              "      [theme=dark] .colab-df-generate:hover {\n",
              "        background-color: #434B5C;\n",
              "        box-shadow: 0px 1px 3px 1px rgba(0, 0, 0, 0.15);\n",
              "        filter: drop-shadow(0px 1px 2px rgba(0, 0, 0, 0.3));\n",
              "        fill: #FFFFFF;\n",
              "      }\n",
              "    </style>\n",
              "    <button class=\"colab-df-generate\" onclick=\"generateWithVariable('anime_df_cleaned')\"\n",
              "            title=\"Generate code using this dataframe.\"\n",
              "            style=\"display:none;\">\n",
              "\n",
              "  <svg xmlns=\"http://www.w3.org/2000/svg\" height=\"24px\"viewBox=\"0 0 24 24\"\n",
              "       width=\"24px\">\n",
              "    <path d=\"M7,19H8.4L18.45,9,17,7.55,7,17.6ZM5,21V16.75L18.45,3.32a2,2,0,0,1,2.83,0l1.4,1.43a1.91,1.91,0,0,1,.58,1.4,1.91,1.91,0,0,1-.58,1.4L9.25,21ZM18.45,9,17,7.55Zm-12,3A5.31,5.31,0,0,0,4.9,8.1,5.31,5.31,0,0,0,1,6.5,5.31,5.31,0,0,0,4.9,4.9,5.31,5.31,0,0,0,6.5,1,5.31,5.31,0,0,0,8.1,4.9,5.31,5.31,0,0,0,12,6.5,5.46,5.46,0,0,0,6.5,12Z\"/>\n",
              "  </svg>\n",
              "    </button>\n",
              "    <script>\n",
              "      (() => {\n",
              "      const buttonEl =\n",
              "        document.querySelector('#id_039d1b4b-530b-4ec9-81d3-d96806357927 button.colab-df-generate');\n",
              "      buttonEl.style.display =\n",
              "        google.colab.kernel.accessAllowed ? 'block' : 'none';\n",
              "\n",
              "      buttonEl.onclick = () => {\n",
              "        google.colab.notebook.generateWithVariable('anime_df_cleaned');\n",
              "      }\n",
              "      })();\n",
              "    </script>\n",
              "  </div>\n",
              "\n",
              "    </div>\n",
              "  </div>\n"
            ],
            "application/vnd.google.colaboratory.intrinsic+json": {
              "type": "dataframe",
              "variable_name": "anime_df_cleaned",
              "summary": "{\n  \"name\": \"anime_df_cleaned\",\n  \"rows\": 11830,\n  \"fields\": [\n    {\n      \"column\": \"anime_id\",\n      \"properties\": {\n        \"dtype\": \"number\",\n        \"std\": 11110,\n        \"min\": 1,\n        \"max\": 34519,\n        \"num_unique_values\": 11830,\n        \"samples\": [\n          28551,\n          2499,\n          33821\n        ],\n        \"semantic_type\": \"\",\n        \"description\": \"\"\n      }\n    },\n    {\n      \"column\": \"name\",\n      \"properties\": {\n        \"dtype\": \"string\",\n        \"num_unique_values\": 11765,\n        \"samples\": [\n          \"kamenridersdkaikikumootoko\",\n          \"roseoneillkewpie\",\n          \"planetarianhoshihito\"\n        ],\n        \"semantic_type\": \"\",\n        \"description\": \"\"\n      }\n    },\n    {\n      \"column\": \"genre\",\n      \"properties\": {\n        \"dtype\": \"category\",\n        \"num_unique_values\": 3217,\n        \"samples\": [\n          \"actiondementiaecchifantasymechamilitarymusicschoolscifispacesupernatural\",\n          \"actionhentaimechascifiyaoi\",\n          \"fantasyslicelifesupernatural\"\n        ],\n        \"semantic_type\": \"\",\n        \"description\": \"\"\n      }\n    },\n    {\n      \"column\": \"type\",\n      \"properties\": {\n        \"dtype\": \"category\",\n        \"num_unique_values\": 6,\n        \"samples\": [\n          \"movie\",\n          \"tv\",\n          \"ona\"\n        ],\n        \"semantic_type\": \"\",\n        \"description\": \"\"\n      }\n    },\n    {\n      \"column\": \"episodes\",\n      \"properties\": {\n        \"dtype\": \"category\",\n        \"num_unique_values\": 186,\n        \"samples\": [\n          \"72\",\n          \"283\",\n          \"312\"\n        ],\n        \"semantic_type\": \"\",\n        \"description\": \"\"\n      }\n    },\n    {\n      \"column\": \"rating\",\n      \"properties\": {\n        \"dtype\": \"number\",\n        \"std\": 1.0191474981344966,\n        \"min\": 1.67,\n        \"max\": 10.0,\n        \"num_unique_values\": 594,\n        \"samples\": [\n          8.68,\n          5.98,\n          7.2\n        ],\n        \"semantic_type\": \"\",\n        \"description\": \"\"\n      }\n    },\n    {\n      \"column\": \"members\",\n      \"properties\": {\n        \"dtype\": \"number\",\n        \"std\": 55371,\n        \"min\": 12,\n        \"max\": 1013917,\n        \"num_unique_values\": 6564,\n        \"samples\": [\n          2123,\n          11368,\n          1030\n        ],\n        \"semantic_type\": \"\",\n        \"description\": \"\"\n      }\n    }\n  ]\n}"
            }
          },
          "metadata": {},
          "execution_count": 33
        }
      ],
      "source": [
        "anime_df_cleaned"
      ]
    },
    {
      "cell_type": "markdown",
      "metadata": {
        "id": "PgBGpSuudQLa"
      },
      "source": [
        "#### Prepocessing for Content based recommender system"
      ]
    },
    {
      "cell_type": "markdown",
      "metadata": {
        "id": "IAB1TNeodQLa"
      },
      "source": [
        "The provided code below prepares data for content-based filtering by performing several preprocessing steps on an anime dataset. Initially, it drops unnecessary columns (anime_id, name, and members) from the dataset to focus on relevant features. Then, it applies a TF-IDF vectorizer to the 'genre' column to convert genre information into numerical form, creating a sparse matrix of genre features. The code also extracts and standardizes numerical features (ratings and episodes) using StandardScaler and converts these scaled features into a sparse matrix format. Additionally, it one-hot encodes the 'type' column to handle categorical data. Finally, it combines the genre matrix, scaled numerical features, and one-hot encoded 'type' features into a single sparse matrix (combined_features), which will be used for further analysis or modeling."
      ]
    },
    {
      "cell_type": "code",
      "execution_count": 10,
      "metadata": {
        "id": "AuwmXdvpO0Rp"
      },
      "outputs": [],
      "source": [
        "# Dropping unnecessary columns for content-based filtering\n",
        "content_df = anime_df_cleaned.drop(columns=['members'])\n",
        "\n",
        "# TF-IDF vectorizer for the genre\n",
        "tfidf = TfidfVectorizer()\n",
        "genre_matrix = tfidf.fit_transform(content_df['name'])\n",
        "\n",
        "# Combine genre and other numerical features\n",
        "numerical_features = content_df[['rating', 'episodes']].values\n",
        "\n",
        "# Standard scale the numerical features\n",
        "scaler = StandardScaler()\n",
        "numerical_features_scaled = scaler.fit_transform(numerical_features)\n",
        "\n",
        "# Convert scaled numerical features to sparse matrix\n",
        "numerical_features_sparse = csr_matrix(numerical_features_scaled)\n",
        "\n",
        "# One-hot encode the 'type' column\n",
        "one_hot_encoder = OneHotEncoder()\n",
        "type_one_hot = one_hot_encoder.fit_transform(content_df[['type','genre']])\n",
        "\n",
        "# Combine genre matrix, numerical features, and one-hot encoded type\n",
        "combined_features = hstack([genre_matrix, numerical_features_sparse, type_one_hot])"
      ]
    },
    {
      "cell_type": "markdown",
      "metadata": {
        "id": "62dCxISpX5i6"
      },
      "source": [
        "## 7. Modelling <a class=\"anchor\" id=\"chapter7\"></a>\n",
        "\n",
        "Before modelling we have to do dimensionality reduction using umap Dimensionality reduction is a crucial preprocessing step in many machine learning workflows, especially when dealing with high-dimensional datasets. It helps to simplify models by reducing the number of features, which can lead to improved performance and reduced computational costs. In the context of clustering, dimensionality reduction techniques like UMAP (Uniform Manifold Approximation and Projection) are particularly valuable. UMAP is chosen for its ability to preserve both local and global data structures, making it highly effective for visualizing and clustering high-dimensional data. Unlike other techniques such as PCA (Principal Component Analysis), UMAP can capture complex relationships and clusters in the data more accurately. Its flexibility and efficiency in handling large datasets make it an ideal choice for dimensionality reduction, allowing for meaningful clustering results and better insights into the underlying data structure."
      ]
    },
    {
      "cell_type": "markdown",
      "metadata": {
        "id": "8loEC5lT2GH7"
      },
      "source": [
        "#### Dimensionality Reduction Using Umap"
      ]
    },
    {
      "cell_type": "code",
      "execution_count": 11,
      "metadata": {
        "id": "mRLRnnVWI4lk"
      },
      "outputs": [],
      "source": [
        "# Initialising UMAP\n",
        "init_umap_reducer = umap.UMAP(n_neighbors=25, n_components=10, random_state=42)\n",
        "init_combined_features_reduced_umap = init_umap_reducer.fit_transform(combined_features.toarray())"
      ]
    },
    {
      "cell_type": "markdown",
      "metadata": {
        "id": "hi-RqhKqincj"
      },
      "source": [
        "### 7.1 Content Based Filtering Model Training"
      ]
    },
    {
      "cell_type": "markdown",
      "metadata": {
        "id": "6L-FvUvGI4ll"
      },
      "source": [
        "#### Initialising the models"
      ]
    },
    {
      "cell_type": "code",
      "execution_count": 15,
      "metadata": {
        "id": "OE0A1v6PdQLj"
      },
      "outputs": [],
      "source": [
        "# Define the KMeans and DBSCAN models\n",
        "kmeans = KMeans(random_state=42)\n",
        "dbscan = DBSCAN()"
      ]
    },
    {
      "cell_type": "markdown",
      "source": [
        "#### RandomSearchCV Hyperparameter Tuning with mlflow tracking"
      ],
      "metadata": {
        "id": "qbtB1U4u1DN_"
      }
    },
    {
      "cell_type": "code",
      "source": [
        "import mlflow\n",
        "import umap\n",
        "from sklearn.cluster import KMeans, DBSCAN\n",
        "from randomcv import RandomSearchCV  # Replace with appropriate import\n",
        "\n",
        "def tune_kmeans(params):\n",
        "  # Create KMeans model with given parameters\n",
        "  kmeans = KMeans(n_clusters=params['n_clusters'], random_state=42)\n",
        "  # Fit the model\n",
        "  kmeans.fit(init_combined_features_reduced_umap)\n",
        "  # Evaluate the model (e.g., using silhouette score)\n",
        "  score = silhouette_score(init_combined_features_reduced_umap, kmeans.labels_)\n",
        "  return score\n",
        "\n",
        "def tune_dbscan(params):\n",
        "  # Create DBSCAN model with given parameters\n",
        "  dbscan = DBSCAN(eps=params['eps'], min_samples=params['min_samples'])\n",
        "  # Fit the model\n",
        "  dbscan.fit(init_combined_features_reduced_umap)\n",
        "  # Evaluate the model (e.g., using silhouette score or other metrics)\n",
        "  score = silhouette_score(init_combined_features_reduced_umap, dbscan.labels_)\n",
        "  return score\n",
        "\n",
        "# Define parameter grids\n",
        "kmeans_params = {\n",
        "    'n_clusters': range(2, 11)  # Adjust range as needed\n",
        "}\n",
        "dbscan_params = {\n",
        "    'eps': [0.3, 0.5, 0.7],\n",
        "    'min_samples': [5, 10, 15]\n",
        "}\n",
        "\n",
        "# Perform hyperparameter tuning with RandomCV (replace with appropriate usage)\n",
        "random_search_kmeans = RandomSearchCV(tune_kmeans, kmeans_params, n_iter=10)\n",
        "random_search_dbscan = RandomSearchCV(tune_dbscan, dbscan_params, n_iter=10)\n",
        "\n",
        "with mlflow.start_run(experiment_id=experiment_id):  # Replace with your experiment ID\n",
        "  # Run hyperparameter tuning for KMeans\n",
        "  best_kmeans = random_search_kmeans.fit(init_combined_features_reduced_umap)\n",
        "  mlflow.log_params(best_kmeans.best_params_)\n",
        "  mlflow.log_metric(\"silhouette_score\", best_kmeans.best_score_)\n",
        "\n",
        "  # Run hyperparameter tuning for DBSCAN\n",
        "  best_dbscan = random_search_dbscan.fit(init_combined_features_reduced_umap)\n",
        "  mlflow.log_params(best_dbscan.best_params_)\n",
        "  mlflow.log_metric(\"silhouette_score\", best_dbscan.best_score_)\n"
      ],
      "metadata": {
        "id": "zuahXq154w3t"
      },
      "execution_count": null,
      "outputs": []
    },
    {
      "cell_type": "markdown",
      "metadata": {
        "id": "laDxuVFodQLj"
      },
      "source": [
        "#### Training Kmeans using Best Parameters from RandomsearchCV"
      ]
    },
    {
      "cell_type": "code",
      "execution_count": 12,
      "metadata": {
        "id": "AHpE-YkZI4lm"
      },
      "outputs": [],
      "source": [
        "# Apply UMAP\n",
        "init_umap_reducer = umap.UMAP(n_neighbors=25, n_components=10, random_state=42)\n",
        "init_combined_features_reduced_umap = init_umap_reducer.fit_transform(combined_features.toarray())\n",
        "\n",
        "# Train the KMeans model\n",
        "init_kmeans = KMeans(n_clusters=10, random_state=42)\n",
        "init_kmeans.fit(init_combined_features_reduced_umap)\n",
        "\n",
        "# Assign clusters to each anime\n",
        "content_df['init_kmeans_cluster'] = init_kmeans.labels_.astype(np.float64)\n"
      ]
    },
    {
      "cell_type": "markdown",
      "source": [
        "Kmeans Model Evaluation"
      ],
      "metadata": {
        "id": "Pqs9g9Jpz5TQ"
      }
    },
    {
      "cell_type": "code",
      "execution_count": 13,
      "metadata": {
        "colab": {
          "base_uri": "https://localhost:8080/"
        },
        "id": "NR5rifWHzQS0",
        "outputId": "01dcff36-0780-4843-a147-efc144d2776f"
      },
      "outputs": [
        {
          "output_type": "stream",
          "name": "stdout",
          "text": [
            "Davies-Bouldin Index: 0.5665837229717839\n",
            "Silhouette Score: 0.6175675392150879\n"
          ]
        }
      ],
      "source": [
        "# Evaluate the model using davies bouldin and silhouette score\n",
        "init_silhouette_avg = silhouette_score(init_combined_features_reduced_umap, init_kmeans.labels_)\n",
        "init_davies_bouldin = davies_bouldin_score(init_combined_features_reduced_umap, init_kmeans.labels_)\n",
        "\n",
        "print(f'Davies-Bouldin Index: {init_davies_bouldin}')\n",
        "print(f'Silhouette Score: {init_silhouette_avg}')"
      ]
    },
    {
      "cell_type": "markdown",
      "metadata": {
        "id": "OBF85GzddQLi"
      },
      "source": [
        "#### Results Interpretation:\n",
        "The results above show the performance of a clustering algorithm using two metrics: the Davies-Bouldin Index (DBI) and the Silhouette Score. The Davies-Bouldin Index of 0.566 indicates a relatively good clustering performance, as lower DBI values signify better-defined clusters with less scatter. However, there is room for improvement. The Silhouette Score of 0.618 suggests moderately cohesive and well-separated clusters, with a score closer to 1 indicating better-defined clusters."
      ]
    },
    {
      "cell_type": "markdown",
      "source": [
        "#### Biulding content-based filtering model using Kmeans"
      ],
      "metadata": {
        "id": "fkrgBciV1bVV"
      }
    },
    {
      "cell_type": "code",
      "source": [
        "def get_recommendations(name, content_df, num_recommendations=5):\n",
        "    # Check if the anime name exists in the DataFrame\n",
        "    if name not in content_df['name'].values:\n",
        "        print(f\"Anime '{name}' not found in the dataset.\")\n",
        "        return None\n",
        "\n",
        "    # Find the cluster for the given anime\n",
        "    anime_cluster = content_df.loc[content_df['name'] == name, 'init_kmeans_cluster'].values[0]\n",
        "\n",
        "    # Get all the animes in the same cluster\n",
        "    cluster_animes = content_df[content_df['init_kmeans_cluster'] == anime_cluster]\n",
        "\n",
        "    # Exclude the input anime from the recommendations\n",
        "    cluster_animes = cluster_animes[cluster_animes['name'] != name]\n",
        "\n",
        "    # Shuffle and select the top `num_recommendations`\n",
        "    recommendations = cluster_animes.sample(n=num_recommendations) if len(cluster_animes) >= num_recommendations else cluster_animes\n",
        "\n",
        "    return recommendations[['name', 'init_kmeans_cluster']]\n",
        "\n",
        "    # Example usage for an existing anime:\n",
        "recommended_animes = get_recommendations('naruto', content_df, num_recommendations=5)\n",
        "\n",
        "if recommended_animes is not None:\n",
        "    print(\"Recommendations based on 'Naruto':\")\n",
        "    print(recommended_animes)"
      ],
      "metadata": {
        "colab": {
          "base_uri": "https://localhost:8080/"
        },
        "id": "5mQUC7tjHqEp",
        "outputId": "12b79ca4-6831-479d-a191-3d6ec112b3f4"
      },
      "execution_count": null,
      "outputs": [
        {
          "output_type": "stream",
          "name": "stdout",
          "text": [
            "Recommendations based on 'Naruto':\n",
            "                       name  init_kmeans_cluster\n",
            "4246   kitaediamonddustdrop                  1.0\n",
            "2445            gravitation                  1.0\n",
            "1960             atashinchi                  1.0\n",
            "4593             cuteyhoney                  1.0\n",
            "5728  moeroarthurhakubaouji                  1.0\n"
          ]
        }
      ]
    },
    {
      "cell_type": "markdown",
      "source": [
        "#### Prediction new animes using clusters"
      ],
      "metadata": {
        "id": "7fuAHCOu1uSb"
      }
    },
    {
      "cell_type": "code",
      "source": [
        "# Function to predict the cluster for a new anime based on its features\n",
        "def predict_and_recommend(new_anime_features, init_kmeans, content_df, num_recommendations=5):\n",
        "    # Ensure the feature vector is a numpy array with dtype float64\n",
        "    new_anime_features = np.array(new_anime_features, dtype=np.float64)\n",
        "\n",
        "    # Print dtype and shape for debugging\n",
        "    print(f\"Feature vector dtype: {new_anime_features.dtype}, shape: {new_anime_features.shape}\")\n",
        "\n",
        "    # Predict the cluster for the new anime, reshaping the vector to be 2D\n",
        "    predicted_cluster = init_kmeans.predict(new_anime_features.reshape(1, -1).astype(np.float64))[0]\n",
        "\n",
        "    # Get all animes in the same predicted cluster\n",
        "    cluster_animes = content_df[content_df['init_kmeans_cluster'] == predicted_cluster]\n",
        "\n",
        "    # Shuffle and select the top `num_recommendations`\n",
        "    recommendations = cluster_animes.sample(n=num_recommendations) if len(cluster_animes) >= num_recommendations else cluster_animes\n",
        "\n",
        "    return recommendations[['name', 'init_kmeans_cluster']]\n",
        "\n",
        "# Example usage for a new anime (assuming `new_anime_features` is a feature vector for the new anime):\n",
        "new_anime_features = init_combined_features_reduced_umap[0]  # Replace with the actual new anime feature vector\n",
        "\n",
        "# Ensure the feature vector is the correct type\n",
        "new_anime_features = np.array(new_anime_features, dtype=np.float64)\n",
        "\n",
        "# Ensure KMeans model centers are also float64\n",
        "init_kmeans.cluster_centers_ = init_kmeans.cluster_centers_.astype(np.float64)\n",
        "\n",
        "# Call the function with the corrected feature vector\n",
        "predicted_recommendations = predict_and_recommend(new_anime_features, init_kmeans, content_df, num_recommendations=5)\n",
        "\n",
        "# Print the results\n",
        "print(\"Predicted Recommendations for the new anime:\")\n",
        "print(predicted_recommendations)\n"
      ],
      "metadata": {
        "colab": {
          "base_uri": "https://localhost:8080/"
        },
        "id": "PWnhMLCLKbum",
        "outputId": "963a45bb-2863-48e2-a938-af6fc8842a05"
      },
      "execution_count": null,
      "outputs": [
        {
          "output_type": "stream",
          "name": "stdout",
          "text": [
            "Feature vector dtype: float64, shape: (10,)\n",
            "Predicted Recommendations for the new anime:\n",
            "                                            name  init_kmeans_cluster\n",
            "311   sekaiichihatsukoimovieyokozawatakafumibaai                  5.0\n",
            "165             detectiveconanmovie13ravenchaser                  5.0\n",
            "1014                  karakyoukai6boukyakurokuon                  5.0\n",
            "1131           bleachmovie3fadeblackkiminawoyobu                  5.0\n",
            "1406    codegeassboukokuakito4nikushimikiokukara                  5.0\n"
          ]
        }
      ]
    },
    {
      "cell_type": "markdown",
      "metadata": {
        "id": "2GePENpQdQLm"
      },
      "source": [
        "#### Training DBSCAN using Best Parameters from RandomsearchCV"
      ]
    },
    {
      "cell_type": "code",
      "execution_count": 24,
      "metadata": {
        "id": "sV0cIAv4dQLm"
      },
      "outputs": [],
      "source": [
        "# Apply UMAP\n",
        "db_umap_reducer = umap.UMAP(n_neighbors=25, n_components=10, random_state=42)\n",
        "db_combined_features_reduced_umap = db_umap_reducer.fit_transform(combined_features.toarray())\n",
        "\n",
        "# Train the DBSCAN model\n",
        "dbscan = DBSCAN(eps=0.9, min_samples=3)  # Adjust the parameters as needed\n",
        "dbscan.fit(db_combined_features_reduced_umap)\n",
        "\n",
        "# Assign clusters to each anime (noise points are labeled as -1)\n",
        "content_df['init_dbscan_cluster'] = dbscan.labels_\n"
      ]
    },
    {
      "cell_type": "markdown",
      "source": [
        "#### DBSCAN Model Evaluation"
      ],
      "metadata": {
        "id": "sbPOTVKR3LDz"
      }
    },
    {
      "cell_type": "code",
      "execution_count": 25,
      "metadata": {
        "colab": {
          "base_uri": "https://localhost:8080/"
        },
        "id": "Z8hCOOlgdQLm",
        "outputId": "1b8e4f03-e0e9-4d77-cb12-7f70cd6d09cb"
      },
      "outputs": [
        {
          "output_type": "stream",
          "name": "stdout",
          "text": [
            "Davies-Bouldin Index: 0.6494284191270902\n",
            "Silhouette Score: 0.6561188101768494\n"
          ]
        }
      ],
      "source": [
        "# Evaluate the model using davies_bouldin and silhouette score\n",
        "db_silhouette_avg = silhouette_score(db_combined_features_reduced_umap, dbscan.labels_)\n",
        "db_davies_bouldin = davies_bouldin_score(db_combined_features_reduced_umap, dbscan.labels_)\n",
        "\n",
        "print(f'Davies-Bouldin Index: {db_davies_bouldin}')\n",
        "print(f'Silhouette Score: {db_silhouette_avg}')"
      ]
    },
    {
      "cell_type": "markdown",
      "metadata": {
        "id": "GGeA7e-PdQLj"
      },
      "source": [
        "#### Results:\n",
        "The Davies-Bouldin Index, which measures the average similarity ratio of each cluster with the one most similar to it, is 0.649, indicating relatively well-separated clusters (lower values are better). The Silhouette Score, which assesses the mean intra-cluster distance and the mean nearest-cluster distance, is 0.656, suggesting moderately cohesive and well-separated clusters (higher values are better). These metrics reflect the optimized performance of the clustering model based on the hyperparameters selected through RandomSearchCV."
      ]
    },
    {
      "cell_type": "markdown",
      "source": [
        "#### Adding a recommender system for DSCAN"
      ],
      "metadata": {
        "id": "dCWWRYudf1FV"
      }
    },
    {
      "cell_type": "code",
      "source": [
        "# Function to get recommendations based on an existing anime\n",
        "def get_recommendations(name, content_df, num_recommendations=5):\n",
        "    # Check if the anime name exists in the DataFrame\n",
        "    if name not in content_df['name'].values:\n",
        "        print(f\"Anime '{name}' not found in the dataset.\")\n",
        "        return None\n",
        "\n",
        "    # Find the cluster for the given anime\n",
        "    anime_cluster = content_df.loc[content_df['name'] == name, 'init_dbscan_cluster'].values[0]\n",
        "\n",
        "    # Get all the animes in the same cluster\n",
        "    cluster_animes = content_df[content_df['init_dbscan_cluster'] == anime_cluster]\n",
        "\n",
        "    # Exclude the input anime from the recommendations\n",
        "    cluster_animes = cluster_animes[cluster_animes['name'] != name]\n",
        "\n",
        "    # Shuffle and select the top `num_recommendations`\n",
        "    recommendations = cluster_animes.sample(n=num_recommendations) if len(cluster_animes) >= num_recommendations else cluster_animes\n",
        "\n",
        "    return recommendations[['name', 'init_dbscan_cluster']]\n",
        "\n",
        "# Example usage for an existing anime:\n",
        "recommended_animes = get_recommendations('naruto', content_df, num_recommendations=5)\n",
        "if recommended_animes is not None:\n",
        "    print(\"Recommendations based on 'Naruto':\")\n",
        "    print(recommended_animes)\n",
        "\n",
        "# Function to predict the cluster for a new anime based on its features\n",
        "def predict_and_recommend(new_anime_features, init_dbscan, content_df, num_recommendations=5):\n",
        "    # Ensure the feature vector is a numpy array with dtype float64\n",
        "    new_anime_features = np.array(new_anime_features, dtype=np.float64)\n",
        "\n",
        "    # Print dtype and shape for debugging\n",
        "    print(f\"Feature vector dtype: {new_anime_features.dtype}, shape: {new_anime_features.shape}\")\n",
        "\n",
        "    # Use Nearest Neighbors to find the nearest point to determine the cluster\n",
        "    nbrs = NearestNeighbors(n_neighbors=1, algorithm='auto').fit(init_combined_features_reduced_umap)\n",
        "    distances, indices = nbrs.kneighbors(new_anime_features.reshape(1, -1))\n",
        "\n",
        "    # Find the closest existing anime's cluster\n",
        "    closest_anime_index = indices[0][0]\n",
        "    predicted_cluster = content_df.iloc[closest_anime_index]['init_dbscan_cluster']\n",
        "\n",
        "    # Get all animes in the same predicted cluster\n",
        "    cluster_animes = content_df[content_df['init_dbscan_cluster'] == predicted_cluster]\n",
        "\n",
        "    # Shuffle and select the top `num_recommendations`\n",
        "    recommendations = cluster_animes.sample(n=num_recommendations) if len(cluster_animes) >= num_recommendations else cluster_animes\n",
        "\n",
        "    return recommendations[['name', 'init_dbscan_cluster']]\n",
        "\n",
        "# Example usage for a new anime (assuming `new_anime_features` is a feature vector for the new anime):\n",
        "new_anime_features = init_combined_features_reduced_umap[0]  # Replace with the actual new anime feature vector\n",
        "\n",
        "# Ensure the feature vector is the correct type\n",
        "new_anime_features = np.array(new_anime_features, dtype=np.float64)\n",
        "\n",
        "# Initialize the Nearest Neighbors model (assuming init_combined_features_reduced_umap is defined)\n",
        "nbrs = NearestNeighbors(n_neighbors=1, algorithm='auto').fit(init_combined_features_reduced_umap)\n",
        "\n",
        "# Call the function with the corrected feature vector\n",
        "predicted_recommendations = predict_and_recommend(new_anime_features, init_dbscan, content_df, num_recommendations=5)\n",
        "\n",
        "# Print the results\n",
        "print('\\n')\n",
        "print(\"Predicted Recommendations for the new anime:\")\n",
        "print(predicted_recommendations)\n"
      ],
      "metadata": {
        "colab": {
          "base_uri": "https://localhost:8080/"
        },
        "id": "Ao05WOTKfyW2",
        "outputId": "9711bd5e-9548-499d-98ae-2077f4b4f50b"
      },
      "execution_count": 26,
      "outputs": [
        {
          "output_type": "stream",
          "name": "stdout",
          "text": [
            "Recommendations based on 'Naruto':\n",
            "                                     name  init_dbscan_cluster\n",
            "2062  utano☆princesama♪majilovelegendstar                    1\n",
            "1735                              amanchu                    1\n",
            "852                          houroumusuko                    1\n",
            "3169                          hyperpolice                    1\n",
            "593                        magickaito1412                    1\n",
            "Feature vector dtype: float64, shape: (10,)\n",
            "Predicted Recommendations for the new anime:\n",
            "                            name  init_dbscan_cluster\n",
            "2770        wakegirlbeyondbottom                    0\n",
            "5930                     mangchi                    0\n",
            "9232       kiniromosaicprettyday                    0\n",
            "10085  robottaekwonvwoojujakjeon                    0\n",
            "9530       meoteoldosawa108yogoe                    0\n"
          ]
        }
      ]
    },
    {
      "cell_type": "markdown",
      "metadata": {
        "id": "8BtDQ1mByRUN"
      },
      "source": [
        "#### 7.2. User-based Collaborative Filtering Model Training"
      ]
    },
    {
      "cell_type": "code",
      "execution_count": 37,
      "metadata": {
        "colab": {
          "base_uri": "https://localhost:8080/"
        },
        "id": "HEsL8UZYnDzw",
        "outputId": "8a50c12c-ab48-4c48-b708-c33e2072fe27"
      },
      "outputs": [
        {
          "output_type": "stream",
          "name": "stdout",
          "text": [
            "   user_id  anime_id  rating\n",
            "0        1     11617      10\n",
            "1        1     11757      10\n",
            "2        1     15451      10\n",
            "3        2     11771      10\n",
            "4        3        20       8\n",
            "   user_id  anime_id\n",
            "0    40763     21405\n",
            "1    68791     10504\n",
            "2    40487      1281\n",
            "3    55290       165\n",
            "4    72323     11111\n",
            "<class 'pandas.core.frame.DataFrame'>\n",
            "Index: 5703553 entries, 0 to 5703553\n",
            "Data columns (total 3 columns):\n",
            " #   Column    Dtype\n",
            "---  ------    -----\n",
            " 0   user_id   int64\n",
            " 1   anime_id  int64\n",
            " 2   rating    int64\n",
            "dtypes: int64(3)\n",
            "memory usage: 174.1 MB\n",
            "None\n"
          ]
        }
      ],
      "source": [
        "print(train_df_cleaned.head())\n",
        "print(test_df_cleaned.head())\n",
        "print(train_df_cleaned.info())"
      ]
    },
    {
      "cell_type": "code",
      "execution_count": 27,
      "metadata": {
        "id": "-PtNFN-VdQLn"
      },
      "outputs": [],
      "source": [
        "from sklearn.decomposition import PCA\n",
        "from sklearn.neighbors import NearestNeighbors\n",
        "from sklearn.model_selection import train_test_split, GridSearchCV\n",
        "from sklearn.metrics import mean_squared_error\n",
        "from scipy.sparse import csr_matrix, save_npz, load_npz\n",
        "from surprise import Dataset, Reader, KNNBasic\n",
        "from surprise.model_selection import train_test_split as surprise_train_test_split\n",
        "from surprise.model_selection import cross_validate\n",
        "from surprise import accuracy"
      ]
    },
    {
      "cell_type": "markdown",
      "metadata": {
        "id": "X8dtiBY2dQLo"
      },
      "source": [
        "The code loads a cleaned dataset and ensures it is free of duplicates. It then identifies all unique users and calculates their count. To create a balanced sample, the code groups the data by 'user_id' and randomly samples observations from each group, ensuring all users are represented, while aiming for a total of 680,000 observations. If the resultant sampled data exceeds 680,000 rows, it is further randomly sampled to exactly 680,000 rows. Finally, the code displays the first few rows of the sampled dataset."
      ]
    },
    {
      "cell_type": "code",
      "execution_count": 28,
      "metadata": {
        "id": "MPMrjBqRI4lp",
        "colab": {
          "base_uri": "https://localhost:8080/"
        },
        "outputId": "f6db32f2-8250-402e-bae0-aafa873277d9"
      },
      "outputs": [
        {
          "output_type": "stream",
          "name": "stdout",
          "text": [
            "   user_id  anime_id  rating\n",
            "0        1     11757      10\n",
            "1        2     11771      10\n",
            "2        3      1313       8\n",
            "3        5      8277       3\n",
            "4        7      1313       8\n"
          ]
        }
      ],
      "source": [
        "# Load the dataset\n",
        "data = train_df_cleaned.copy()\n",
        "\n",
        "# Drop duplicates\n",
        "data.drop_duplicates(inplace=True)\n",
        "\n",
        "# Ensure all users are included\n",
        "unique_users = data['user_id'].unique()\n",
        "num_unique_users = len(unique_users)\n",
        "\n",
        "# Sample 80,000 random observations ensuring all users are included\n",
        "sampled_data = data.groupby('user_id').apply(lambda x: x.sample(n=min(len(x), int(80000 / num_unique_users)))).reset_index(drop=True)\n",
        "\n",
        "# Check if the sampled data has 80,000 rows\n",
        "if len(sampled_data) > 80000:\n",
        "    sampled_data = sampled_data.sample(n=80000)\n",
        "\n",
        "# Display the sampled data\n",
        "print(sampled_data.head())"
      ]
    },
    {
      "cell_type": "code",
      "execution_count": 29,
      "metadata": {
        "id": "oBk5yOPjdQLo"
      },
      "outputs": [],
      "source": [
        "# Create sparse user-item interaction matrix\n",
        "user_item_matrix = pd.pivot_table(sampled_data, index='user_id', columns='anime_id', values='rating', fill_value=0)\n",
        "user_item_matrix_sparse = csr_matrix(user_item_matrix.values)\n",
        "\n",
        "# Step 2: Dimensionality Reduction using PCA\n",
        "pca = PCA(n_components=100, random_state=42)\n",
        "user_item_matrix_reduced = pca.fit_transform(user_item_matrix_sparse.toarray())\n",
        "\n",
        "# Convert back to sparse format\n",
        "user_item_matrix_reduced_sparse = csr_matrix(user_item_matrix_reduced)"
      ]
    },
    {
      "cell_type": "code",
      "execution_count": 30,
      "metadata": {
        "id": "mcB2bFFodQLp",
        "colab": {
          "base_uri": "https://localhost:8080/",
          "height": 75
        },
        "outputId": "32a18bff-84fc-474f-a85f-13b58a02c2cb"
      },
      "outputs": [
        {
          "output_type": "execute_result",
          "data": {
            "text/plain": [
              "NearestNeighbors(algorithm='brute', metric='cosine')"
            ],
            "text/html": [
              "<style>#sk-container-id-1 {color: black;}#sk-container-id-1 pre{padding: 0;}#sk-container-id-1 div.sk-toggleable {background-color: white;}#sk-container-id-1 label.sk-toggleable__label {cursor: pointer;display: block;width: 100%;margin-bottom: 0;padding: 0.3em;box-sizing: border-box;text-align: center;}#sk-container-id-1 label.sk-toggleable__label-arrow:before {content: \"▸\";float: left;margin-right: 0.25em;color: #696969;}#sk-container-id-1 label.sk-toggleable__label-arrow:hover:before {color: black;}#sk-container-id-1 div.sk-estimator:hover label.sk-toggleable__label-arrow:before {color: black;}#sk-container-id-1 div.sk-toggleable__content {max-height: 0;max-width: 0;overflow: hidden;text-align: left;background-color: #f0f8ff;}#sk-container-id-1 div.sk-toggleable__content pre {margin: 0.2em;color: black;border-radius: 0.25em;background-color: #f0f8ff;}#sk-container-id-1 input.sk-toggleable__control:checked~div.sk-toggleable__content {max-height: 200px;max-width: 100%;overflow: auto;}#sk-container-id-1 input.sk-toggleable__control:checked~label.sk-toggleable__label-arrow:before {content: \"▾\";}#sk-container-id-1 div.sk-estimator input.sk-toggleable__control:checked~label.sk-toggleable__label {background-color: #d4ebff;}#sk-container-id-1 div.sk-label input.sk-toggleable__control:checked~label.sk-toggleable__label {background-color: #d4ebff;}#sk-container-id-1 input.sk-hidden--visually {border: 0;clip: rect(1px 1px 1px 1px);clip: rect(1px, 1px, 1px, 1px);height: 1px;margin: -1px;overflow: hidden;padding: 0;position: absolute;width: 1px;}#sk-container-id-1 div.sk-estimator {font-family: monospace;background-color: #f0f8ff;border: 1px dotted black;border-radius: 0.25em;box-sizing: border-box;margin-bottom: 0.5em;}#sk-container-id-1 div.sk-estimator:hover {background-color: #d4ebff;}#sk-container-id-1 div.sk-parallel-item::after {content: \"\";width: 100%;border-bottom: 1px solid gray;flex-grow: 1;}#sk-container-id-1 div.sk-label:hover label.sk-toggleable__label {background-color: #d4ebff;}#sk-container-id-1 div.sk-serial::before {content: \"\";position: absolute;border-left: 1px solid gray;box-sizing: border-box;top: 0;bottom: 0;left: 50%;z-index: 0;}#sk-container-id-1 div.sk-serial {display: flex;flex-direction: column;align-items: center;background-color: white;padding-right: 0.2em;padding-left: 0.2em;position: relative;}#sk-container-id-1 div.sk-item {position: relative;z-index: 1;}#sk-container-id-1 div.sk-parallel {display: flex;align-items: stretch;justify-content: center;background-color: white;position: relative;}#sk-container-id-1 div.sk-item::before, #sk-container-id-1 div.sk-parallel-item::before {content: \"\";position: absolute;border-left: 1px solid gray;box-sizing: border-box;top: 0;bottom: 0;left: 50%;z-index: -1;}#sk-container-id-1 div.sk-parallel-item {display: flex;flex-direction: column;z-index: 1;position: relative;background-color: white;}#sk-container-id-1 div.sk-parallel-item:first-child::after {align-self: flex-end;width: 50%;}#sk-container-id-1 div.sk-parallel-item:last-child::after {align-self: flex-start;width: 50%;}#sk-container-id-1 div.sk-parallel-item:only-child::after {width: 0;}#sk-container-id-1 div.sk-dashed-wrapped {border: 1px dashed gray;margin: 0 0.4em 0.5em 0.4em;box-sizing: border-box;padding-bottom: 0.4em;background-color: white;}#sk-container-id-1 div.sk-label label {font-family: monospace;font-weight: bold;display: inline-block;line-height: 1.2em;}#sk-container-id-1 div.sk-label-container {text-align: center;}#sk-container-id-1 div.sk-container {/* jupyter's `normalize.less` sets `[hidden] { display: none; }` but bootstrap.min.css set `[hidden] { display: none !important; }` so we also need the `!important` here to be able to override the default hidden behavior on the sphinx rendered scikit-learn.org. See: https://github.com/scikit-learn/scikit-learn/issues/21755 */display: inline-block !important;position: relative;}#sk-container-id-1 div.sk-text-repr-fallback {display: none;}</style><div id=\"sk-container-id-1\" class=\"sk-top-container\"><div class=\"sk-text-repr-fallback\"><pre>NearestNeighbors(algorithm=&#x27;brute&#x27;, metric=&#x27;cosine&#x27;)</pre><b>In a Jupyter environment, please rerun this cell to show the HTML representation or trust the notebook. <br />On GitHub, the HTML representation is unable to render, please try loading this page with nbviewer.org.</b></div><div class=\"sk-container\" hidden><div class=\"sk-item\"><div class=\"sk-estimator sk-toggleable\"><input class=\"sk-toggleable__control sk-hidden--visually\" id=\"sk-estimator-id-1\" type=\"checkbox\" checked><label for=\"sk-estimator-id-1\" class=\"sk-toggleable__label sk-toggleable__label-arrow\">NearestNeighbors</label><div class=\"sk-toggleable__content\"><pre>NearestNeighbors(algorithm=&#x27;brute&#x27;, metric=&#x27;cosine&#x27;)</pre></div></div></div></div></div>"
            ]
          },
          "metadata": {},
          "execution_count": 30
        }
      ],
      "source": [
        "train_data, test_data = train_test_split(user_item_matrix_reduced_sparse, test_size=0.2, random_state=42)\n",
        "\n",
        "# Initialize KNN model\n",
        "knn = NearestNeighbors(metric='cosine', algorithm='brute')\n",
        "\n",
        "# Train the model\n",
        "knn.fit(train_data)"
      ]
    },
    {
      "cell_type": "markdown",
      "metadata": {
        "id": "a1YY6jNldQLp"
      },
      "source": [
        "#### Model Evaluation"
      ]
    },
    {
      "cell_type": "code",
      "execution_count": 48,
      "metadata": {
        "id": "9yyxF5uudQLp",
        "colab": {
          "base_uri": "https://localhost:8080/"
        },
        "outputId": "4086bc21-e8e6-4f81-e8b3-1db151b38f2b"
      },
      "outputs": [
        {
          "output_type": "stream",
          "name": "stdout",
          "text": [
            "Mean Squared Error before tuning: 0.020141656201866386\n"
          ]
        }
      ],
      "source": [
        "def get_recommendations(user_index, model, data, n_neighbors=5):\n",
        "    distances, indices = model.kneighbors(data[user_index].reshape(1, -1), n_neighbors=n_neighbors)\n",
        "    return indices.flatten()\n",
        "\n",
        "# Evaluate with Mean Squared Error\n",
        "def evaluate_model(test_data, model):\n",
        "    mse = []\n",
        "    for user_index in range(test_data.shape[0]):\n",
        "        true_ratings = user_item_matrix.iloc[user_index].values\n",
        "        recommended_indices = get_recommendations(user_index, model, test_data)\n",
        "        predicted_ratings = np.mean(user_item_matrix.iloc[recommended_indices].values, axis=0)\n",
        "        mse.append(mean_squared_error(true_ratings, predicted_ratings))\n",
        "    return np.mean(mse)\n",
        "\n",
        "mse_before_tuning = evaluate_model(test_data, knn)\n",
        "print(f'Mean Squared Error before tuning: {mse_before_tuning}')"
      ]
    },
    {
      "cell_type": "markdown",
      "metadata": {
        "id": "fmrcyjzhdC5e"
      },
      "source": [
        "#### Hyperparameter Tuning with RandomSearchCV and mlflow"
      ]
    },
    {
      "cell_type": "code",
      "source": [
        "# Set up the pipeline with PCA and KNN\n",
        "pipeline = Pipeline([\n",
        "    ('pca', PCA()),\n",
        "    ('knn', NearestNeighbors(metric='cosine', algorithm='brute'))\n",
        "])\n",
        "\n",
        "# Define the parameter grid\n",
        "param_grid = {\n",
        "    'pca__n_components': [50, 100, 150, 200],\n",
        "    'knn__n_neighbors': [5, 10, 15, 20]\n",
        "}\n",
        "\n",
        "# Initialize RandomizedSearchCV\n",
        "random_search = RandomizedSearchCV(pipeline, param_grid, n_iter=10, cv=3, random_state=42, scoring='neg_mean_squared_error')\n",
        "\n",
        "# Start an MLflow run\n",
        "with mlflow.start_run(run_name=\"KNN-PCA Hyperparameter Tuning\"):\n",
        "    # Fit RandomizedSearchCV to the data\n",
        "    random_search.fit(user_item_matrix_sparse.toarray())\n",
        "\n",
        "    # Log the best parameters\n",
        "    best_params = random_search.best_params_\n",
        "    mlflow.log_params(best_params)\n",
        "    print(f\"Best parameters found: {best_params}\")\n",
        "\n",
        "    # Train the best model on the entire training data\n",
        "    best_model = random_search.best_estimator_\n",
        "    user_item_matrix_reduced = best_model.named_steps['pca'].fit_transform(user_item_matrix_sparse.toarray())\n",
        "    train_data, test_data = train_test_split(user_item_matrix_reduced, test_size=0.2, random_state=42)\n",
        "\n",
        "    # Fit the KNN model\n",
        "    knn = NearestNeighbors(metric='cosine', algorithm='brute', n_neighbors=best_params['knn__n_neighbors'])\n",
        "    knn.fit(train_data)\n",
        "\n",
        "    # Evaluate with Mean Squared Error\n",
        "    mse_after_tuning = evaluate_model(test_data, knn, user_item_matrix)\n",
        "    print(f'Mean Squared Error after tuning: {mse_after_tuning}')\n",
        "\n",
        "    # Log the mean squared error\n",
        "    mlflow.log_metric(\"Mean Squared Error\", mse_after_tuning)\n",
        "\n",
        "    # Log the model\n",
        "    mlflow.sklearn.log_model(best_model, \"best_knn_pca_model\")"
      ],
      "metadata": {
        "id": "tNzen1tp2APq"
      },
      "execution_count": null,
      "outputs": []
    },
    {
      "cell_type": "markdown",
      "source": [
        "#### Creating a submission csv"
      ],
      "metadata": {
        "id": "iPiH2bbC5YuN"
      }
    },
    {
      "cell_type": "code",
      "source": [
        "import numpy as np\n",
        "import pandas as pd\n",
        "from scipy.sparse import csr_matrix\n",
        "from sklearn.neighbors import NearestNeighbors\n",
        "from sklearn.decomposition import TruncatedSVD\n",
        "from sklearn.model_selection import train_test_split\n",
        "\n",
        "# Load the dataset\n",
        "data = train_df_cleaned\n",
        "\n",
        "# Drop duplicates\n",
        "data.drop_duplicates(inplace=True)\n",
        "\n",
        "# Reduce the number of users and anime\n",
        "# Keeping only the top N users and anime by interaction count\n",
        "N_USERS = 1000\n",
        "N_ANIME = 1000\n",
        "\n",
        "top_users = data['user_id'].value_counts().index[:N_USERS]\n",
        "top_anime = data['anime_id'].value_counts().index[:N_ANIME]\n",
        "\n",
        "data = data[data['user_id'].isin(top_users) & data['anime_id'].isin(top_anime)]\n",
        "\n",
        "# Sample 50,000 random observations (reduce from 80,000)\n",
        "sampled_data = data.sample(n=50000, random_state=42)\n",
        "\n",
        "# Create sparse user-item interaction matrix\n",
        "user_item_matrix = pd.pivot_table(\n",
        "    sampled_data, index='user_id', columns='anime_id', values='rating', fill_value=0\n",
        ")\n",
        "user_item_matrix_sparse = csr_matrix(user_item_matrix.values)\n",
        "\n",
        "# Dimensionality Reduction using TruncatedSVD\n",
        "# Reduced components further to save memory\n",
        "svd = TruncatedSVD(n_components=50, random_state=42)\n",
        "user_item_matrix_reduced = svd.fit_transform(user_item_matrix_sparse)\n",
        "\n",
        "# Convert back to sparse format\n",
        "user_item_matrix_reduced_sparse = csr_matrix(user_item_matrix_reduced)\n",
        "\n",
        "# Train/test split\n",
        "train_data, test_data = train_test_split(\n",
        "    user_item_matrix_reduced_sparse, test_size=0.2, random_state=42\n",
        ")\n",
        "\n",
        "# Initialize KNN model\n",
        "knn = NearestNeighbors(metric='cosine', algorithm='brute')\n",
        "\n",
        "# Train the model\n",
        "knn.fit(train_data)\n",
        "\n",
        "def get_recommendations(user_index, model, data, n_neighbors=5):\n",
        "    distances, indices = model.kneighbors(data[user_index], n_neighbors=n_neighbors)\n",
        "    return indices.flatten()\n",
        "\n",
        "# Predict ratings for test data\n",
        "def predict_rating(user_id, anime_id, model, user_item_matrix):\n",
        "    if user_id in user_item_matrix.index:\n",
        "        user_index = user_item_matrix.index.get_loc(user_id)\n",
        "        recommended_indices = get_recommendations(user_index, model, user_item_matrix_reduced_sparse)\n",
        "        if anime_id in user_item_matrix.columns:\n",
        "            predicted_rating = np.mean(user_item_matrix.iloc[recommended_indices][anime_id].dropna())\n",
        "        else:\n",
        "            predicted_rating = user_item_matrix.iloc[recommended_indices].mean().mean()\n",
        "    else:\n",
        "        predicted_rating = user_item_matrix.mean().mean()\n",
        "\n",
        "    return predicted_rating if not np.isnan(predicted_rating) else user_item_matrix.mean().mean()\n",
        "\n",
        "# Create submission file in batches\n",
        "submission_data = []\n",
        "\n",
        "batch_size = 10000\n",
        "for i in range(0, len(test_df_cleaned), batch_size):\n",
        "    batch = test_df_cleaned.iloc[i:i + batch_size]\n",
        "    for _, row in batch.iterrows():\n",
        "        user_id = row['user_id']\n",
        "        anime_id = row['anime_id']\n",
        "        rating = predict_rating(user_id, anime_id, knn, user_item_matrix)\n",
        "        submission_data.append({'ID': f'{user_id}_{anime_id}', 'rating': rating})\n",
        "\n",
        "submission_df = pd.DataFrame(submission_data)\n",
        "\n",
        "# Save the submission to a CSV file\n",
        "submission_df.to_csv('submission.csv', index=False)\n",
        "\n",
        "print('Submission file created: submission.csv')\n",
        "\n"
      ],
      "metadata": {
        "colab": {
          "base_uri": "https://localhost:8080/"
        },
        "id": "VWX4QiHRsywV",
        "outputId": "fc90ae9d-8ddc-416b-bcfc-020d104cfdbc"
      },
      "execution_count": 5,
      "outputs": [
        {
          "output_type": "stream",
          "name": "stdout",
          "text": [
            "Submission file created: submission.csv\n"
          ]
        }
      ]
    },
    {
      "cell_type": "markdown",
      "source": [
        "## 8. Model Perfomance Analysis <a class=\"anchor\" id=\"chapter9\"></a>"
      ],
      "metadata": {
        "id": "FfzriiASxIx6"
      }
    },
    {
      "cell_type": "code",
      "source": [],
      "metadata": {
        "id": "OyIVZ0pvYFAv"
      },
      "execution_count": null,
      "outputs": []
    },
    {
      "cell_type": "code",
      "source": [],
      "metadata": {
        "id": "yrOFJV-4YKuE"
      },
      "execution_count": null,
      "outputs": []
    },
    {
      "cell_type": "markdown",
      "metadata": {
        "id": "Cx_GQd2VX5i6"
      },
      "source": [
        "## 9. Conclusion <a class=\"anchor\" id=\"chapter10\"></a>\n",
        "\n",
        "<b> Summary of Key Findings:</b> The analysis revealed that KNN with RMSE of 0.02 outperformed other models in anime recommendations across multiple domains.\n",
        "\n",
        "<b> Evaluation of the Methodology:</b>Our approach leveraged a combination of PCA and KNN, which proved effective in handling multi-domain recommendations. However, the reliance on labeled data and the computational cost of KNN for large datasets were notable limitations.\n",
        "\n",
        "<b> Implications of the Findings:</b>These findings suggest that implementing KNN for anime recommendation can enhance anime recommender systems and improve user engagement by delivering more relevant content. This can potentially increase platform retention and user satisfaction.\n",
        "\n",
        "<b> Suggestions for Future Work:</b>Future research could explore ensemble methods to further boost recommender systems accuracy and scalability, especially for real-time applications. Additionally, integrating recommender system techniques like Hybrid recommender systems for better understanding of contextual nuances in anime recommendations could be beneficial.\n",
        "\n",
        "<b> Reflection on the Data Source and Quality:</b>The dataset sourced from kaggle outlets provided a diverse range of animes, ensuring broad coverage across domains. However, challenges included occasional bias in reporting and the need for continuous data augmentation to maintain model robustness.\n",
        "\n",
        "<b> Concluding Thoughts:</b>Overall, our study demonstrates the efficacy of KNN in multi-domain anime recommendations while highlighting opportunities for refinement and innovation. By addressing methodological gaps and leveraging evolving technologies, future work can advance the field of automated content classification and its practical applications.\n"
      ]
    },
    {
      "cell_type": "markdown",
      "metadata": {
        "id": "y2JHaO5_X5i6"
      },
      "source": [
        "## 10. References <a class=\"anchor\" id=\"chapter11\"></a>\n",
        "\n",
        "- Scikit-learn Documentation: Provides detailed guides and examples for using machine learning models and tuning hyperparameters with Scikit-learn.\n",
        "- Towards Data Science: Offers a wide range of articles, tutorials, and discussions on data science and machine learning topics, catering to both beginners and advanced practitioners.\n",
        "- Machine Learning Mastery: Focuses on practical tutorials and tips for mastering machine learning techniques, with a hands-on approach to implementing algorithms and tuning models.\n",
        "\n",
        "- Kaggle: A platform for data science competitions and datasets, featuring community-contributed notebooks and discussions that showcase various machine learning methods and strategies.\n",
        "\n",
        "- Coursera: Offers online courses on machine learning and data science from top universities and instructors, providing structured learning paths and hands-on projects.\n",
        "\n",
        "These resources serve as valuable tools for learning, implementing, and mastering machine learning models, hyperparameter tuning techniques, and best practices in data science. They cater to diverse learning styles and levels of expertise, making them essential references for anyone interested in advancing their skills in these fields."
      ]
    }
  ],
  "metadata": {
    "colab": {
      "provenance": []
    },
    "kernelspec": {
      "display_name": "Python 3 (ipykernel)",
      "language": "python",
      "name": "python3"
    },
    "language_info": {
      "codemirror_mode": {
        "name": "ipython",
        "version": 3
      },
      "file_extension": ".py",
      "mimetype": "text/x-python",
      "name": "python",
      "nbconvert_exporter": "python",
      "pygments_lexer": "ipython3",
      "version": "3.11.7"
    }
  },
  "nbformat": 4,
  "nbformat_minor": 0
}